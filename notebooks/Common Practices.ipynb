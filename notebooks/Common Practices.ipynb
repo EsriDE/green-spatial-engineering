{
 "cells": [
  {
   "cell_type": "markdown",
   "id": "72e85550",
   "metadata": {},
   "source": [
    "# Common Practices for Spatial Data Science\n",
    "* [code carbon tool](https://mlco2.github.io/codecarbon/)"
   ]
  },
  {
   "cell_type": "code",
   "execution_count": null,
   "id": "28b67cde",
   "metadata": {},
   "outputs": [],
   "source": [
    "from arcgis.features import GeoAccessor\n",
    "import arcpy\n",
    "from codecarbon import track_emissions\n",
    "from configparser import ConfigParser\n",
    "import logging\n",
    "import numpy as np\n",
    "import os\n",
    "import pandas as pd"
   ]
  },
  {
   "cell_type": "code",
   "execution_count": null,
   "id": "63ad894b",
   "metadata": {},
   "outputs": [],
   "source": [
    "from traffic.read import read_sqlite_to_featureclass, read_sqlite_as_featureclass"
   ]
  },
  {
   "cell_type": "markdown",
   "id": "dc80e5b5",
   "metadata": {},
   "source": [
    "## Ramp up the environment\n",
    "* [Install and set up ArcGIS](https://developers.arcgis.com/python/guide/intro/)\n",
    "* setup logging\n",
    "* read config file\n",
    "* fail early"
   ]
  },
  {
   "cell_type": "code",
   "execution_count": null,
   "id": "4a823b86",
   "metadata": {},
   "outputs": [],
   "source": [
    "def read_emissions(filepath: str):\n",
    "    return pd.read_csv(filepath)"
   ]
  },
  {
   "cell_type": "code",
   "execution_count": null,
   "id": "11dd959b",
   "metadata": {},
   "outputs": [],
   "source": [
    "logging.basicConfig()\n",
    "logger = logging.getLogger(\"codecarbon\")\n",
    "    \n",
    "config = ConfigParser()\n",
    "config.read(\"config.user\")\n",
    "\n",
    "traffic_filepath = config[\"DEFAULT\"][\"TrafficFilePath\"]\n",
    "if None is traffic_filepath:\n",
    "    raise ValueError(\"Traffic file path not specified!\")"
   ]
  },
  {
   "cell_type": "markdown",
   "id": "1c44712f",
   "metadata": {},
   "source": [
    "## 1) Understanding where\n",
    "If you don’t know where you are, you are lost. Understanding where is about\n",
    "putting the world in context. Where are you? What is around you? Very similar\n",
    "to when you were two years old, your journey of spatial analysis\n",
    "requires an understanding of how you fit into your geography."
   ]
  },
  {
   "cell_type": "markdown",
   "id": "400ed200",
   "metadata": {},
   "source": [
    "### The problem\n",
    "The traffic data contains agent positions using latitude and longitude. We need to create geometries for mapping the agent positions."
   ]
  },
  {
   "cell_type": "markdown",
   "id": "68edee80",
   "metadata": {},
   "source": [
    "### The solutions\n",
    "* read the data using a [spatially enabled data frame](https://developers.arcgis.com/python/guide/introduction-to-the-spatially-enabled-dataframe/)\n",
    "\n",
    "* read the data using a [insert cursor](https://pro.arcgis.com/en/pro-app/latest/arcpy/data-access/insertcursor-class.htm)"
   ]
  },
  {
   "cell_type": "markdown",
   "id": "59d63888",
   "metadata": {},
   "source": [
    "#### Two different geometry implementations\n",
    "* [Geometry - ArcGIS API for Python](https://developers.arcgis.com/python/api-reference/arcgis.geometry.html#geometry)\n",
    "* [Geometry - arcpy](https://pro.arcgis.com/en/pro-app/latest/arcpy/classes/geometry.htm)"
   ]
  },
  {
   "cell_type": "code",
   "execution_count": null,
   "id": "8324aab8",
   "metadata": {},
   "outputs": [],
   "source": [
    "@track_emissions(project_name=\"Urban Digital Twin Bonn - Read SDF\", output_file=\"log/emissions-read.user\", offline=True, country_iso_code=\"USA\")\n",
    "def track_read_sdf(traffic_filepath: str):\n",
    "    read_sqlite_to_featureclass(traffic_filepath, \"SELECT * FROM agent_pos;\")\n",
    "    \n",
    "@track_emissions(project_name=\"Urban Digital Twin Bonn - Read FC\", output_file=\"log/emissions-read.user\", offline=True, country_iso_code=\"USA\")\n",
    "def track_read_fc(traffic_filepath: str):\n",
    "    read_sqlite_as_featureclass(traffic_filepath, \"SELECT * FROM agent_pos;\")"
   ]
  },
  {
   "cell_type": "code",
   "execution_count": null,
   "id": "4119ae45",
   "metadata": {},
   "outputs": [],
   "source": [
    "track_read_sdf(traffic_filepath)"
   ]
  },
  {
   "cell_type": "code",
   "execution_count": null,
   "id": "6ac1487a",
   "metadata": {},
   "outputs": [],
   "source": [
    "read_emissions_df = read_emissions(\"log/emissions-read.user\")\n",
    "read_emissions_df"
   ]
  },
  {
   "cell_type": "code",
   "execution_count": null,
   "id": "60466fd1",
   "metadata": {},
   "outputs": [],
   "source": [
    "track_read_fc(traffic_filepath)"
   ]
  },
  {
   "cell_type": "code",
   "execution_count": null,
   "id": "352d1827",
   "metadata": {},
   "outputs": [],
   "source": [
    "read_emissions_df = read_emissions(\"log/emissions-read.user\")\n",
    "read_emissions_df"
   ]
  },
  {
   "cell_type": "markdown",
   "id": "fbb87edf",
   "metadata": {},
   "source": [
    "### Deep dive"
   ]
  },
  {
   "cell_type": "code",
   "execution_count": null,
   "id": "09d624eb",
   "metadata": {},
   "outputs": [],
   "source": [
    "import pyinstrument"
   ]
  },
  {
   "cell_type": "code",
   "execution_count": null,
   "id": "5c77f4b7",
   "metadata": {},
   "outputs": [],
   "source": [
    "%load_ext pyinstrument"
   ]
  },
  {
   "cell_type": "code",
   "execution_count": null,
   "id": "53067662",
   "metadata": {},
   "outputs": [],
   "source": [
    "%%pyinstrument\n",
    "\n",
    "traffic_featureclass = read_sqlite_to_featureclass(traffic_filepath, \"SELECT * FROM agent_pos;\")\n",
    "traffic_featureclass"
   ]
  },
  {
   "cell_type": "code",
   "execution_count": null,
   "id": "b38f74dd",
   "metadata": {},
   "outputs": [],
   "source": [
    "traffic_sdf = GeoAccessor.from_featureclass(traffic_featureclass)\n",
    "traffic_sdf"
   ]
  },
  {
   "cell_type": "code",
   "execution_count": null,
   "id": "2f6a7127",
   "metadata": {},
   "outputs": [],
   "source": [
    "%%pyinstrument\n",
    "\n",
    "traffic_featureclass = read_sqlite_as_featureclass(traffic_filepath, \"SELECT * FROM agent_pos;\")\n",
    "traffic_featureclass"
   ]
  },
  {
   "cell_type": "code",
   "execution_count": null,
   "id": "5cbb18d2",
   "metadata": {},
   "outputs": [],
   "source": [
    "traffic_sdf = GeoAccessor.from_featureclass(traffic_featureclass)\n",
    "traffic_sdf"
   ]
  },
  {
   "cell_type": "markdown",
   "id": "2f4d943a",
   "metadata": {},
   "source": [
    "### The trade offs and alternatives"
   ]
  },
  {
   "cell_type": "markdown",
   "id": "1fd61a8d",
   "metadata": {},
   "source": [
    "#### Use numpy to feature class\n",
    "Your tools of choice are *df.apply*, *df.transform* and *dtypes*\n",
    "\n",
    "[NumPy in ArcGIS](https://pro.arcgis.com/en/pro-app/3.2/arcpy/get-started/working-with-numpy-in-arcgis.htm)"
   ]
  },
  {
   "cell_type": "markdown",
   "id": "8ca6226a",
   "metadata": {},
   "source": [
    "We need to construct a complex numpy array."
   ]
  },
  {
   "cell_type": "code",
   "execution_count": null,
   "id": "e38e005e",
   "metadata": {},
   "outputs": [],
   "source": [
    "traffic_arr = np.array([(1, (471316.3835861763, 5000448.782036674)), \n",
    "          (2, (470402.49348005146, 5000049.216449278))], np.dtype([('idfield', np.int32),('XY', '<f8', 2)]))\n",
    "traffic_arr"
   ]
  },
  {
   "cell_type": "markdown",
   "id": "41b6da8d",
   "metadata": {},
   "source": [
    "We need to necessary modules for converting numpy arrays"
   ]
  },
  {
   "cell_type": "code",
   "execution_count": null,
   "id": "6d2acc51",
   "metadata": {},
   "outputs": [],
   "source": [
    "from arcpy.da import NumPyArrayToFeatureClass\n",
    "from arcpy.management import Delete"
   ]
  },
  {
   "cell_type": "code",
   "execution_count": null,
   "id": "21b1de89",
   "metadata": {},
   "outputs": [],
   "source": [
    "def df_to_numpy(traffic_df: pd.DataFrame):\n",
    "    return np.array([(trip, (longitude, latitude),) for trip, longitude, latitude in traffic_df[['trip', 'longitude', 'latitude']].values], \n",
    "                       np.dtype([('idfield', np.int32),('XY', '<f8', 2)]))\n",
    "\n",
    "def numpy_to_featureclass(array, out_featureclass: str):\n",
    "    if arcpy.Exists(out_featureclass):\n",
    "        Delete(out_featureclass)\n",
    "    \n",
    "    NumPyArrayToFeatureClass(traffic_arr, out_featureclass, ['XY'])\n",
    "    return out_featureclass"
   ]
  },
  {
   "cell_type": "code",
   "execution_count": null,
   "id": "b2a6d66d",
   "metadata": {},
   "outputs": [],
   "source": [
    "traffic_featureclass_arr = numpy_to_featureclass(traffic_arr, 'memory/traffic_data_arr')\n",
    "GeoAccessor.from_featureclass(traffic_featureclass_arr)"
   ]
  },
  {
   "cell_type": "code",
   "execution_count": null,
   "id": "67b7d9be",
   "metadata": {},
   "outputs": [],
   "source": [
    "traffic_arr = df_to_numpy(traffic_sdf)\n",
    "traffic_arr"
   ]
  },
  {
   "cell_type": "code",
   "execution_count": null,
   "id": "02620b23",
   "metadata": {},
   "outputs": [],
   "source": [
    "traffic_featureclass_arr = numpy_to_featureclass(traffic_arr, 'memory/traffic_data_arr')\n",
    "GeoAccessor.from_featureclass(traffic_featureclass_arr)"
   ]
  },
  {
   "cell_type": "code",
   "execution_count": null,
   "id": "4813d252",
   "metadata": {},
   "outputs": [],
   "source": [
    "from traffic.read import read_sqlite_as_df"
   ]
  },
  {
   "cell_type": "code",
   "execution_count": null,
   "id": "4a1a47de",
   "metadata": {},
   "outputs": [],
   "source": [
    "%%pyinstrument\n",
    "\n",
    "traffic_df = read_sqlite_as_df(traffic_filepath, \"SELECT * FROM agent_pos;\")\n",
    "traffic_arr = df_to_numpy(traffic_df)\n",
    "traffic_featureclass_arr = numpy_to_featureclass(traffic_arr, 'memory/traffic_data_arr')\n",
    "traffic_featureclass_arr"
   ]
  },
  {
   "cell_type": "code",
   "execution_count": null,
   "id": "d5ba12b0",
   "metadata": {},
   "outputs": [],
   "source": [
    "@track_emissions(project_name=\"Urban Digital Twin Bonn - Read NP\", output_file=\"log/emissions-read.user\", offline=True, country_iso_code=\"USA\")\n",
    "def track_read_np(traffic_filepath: str):\n",
    "    traffic_df = read_sqlite_as_df(traffic_filepath, \"SELECT * FROM agent_pos;\")\n",
    "    traffic_arr = df_to_numpy(traffic_df)\n",
    "    numpy_to_featureclass(traffic_arr, 'memory/traffic_data_arr')"
   ]
  },
  {
   "cell_type": "code",
   "execution_count": null,
   "id": "0ce5ca12",
   "metadata": {},
   "outputs": [],
   "source": [
    "track_read_np(traffic_filepath)"
   ]
  },
  {
   "cell_type": "code",
   "execution_count": null,
   "id": "ee57f2ba",
   "metadata": {},
   "outputs": [],
   "source": [
    "read_emissions_df = read_emissions(\"log/emissions-read.user\")\n",
    "read_emissions_df.sort_values(by='emissions')"
   ]
  },
  {
   "cell_type": "code",
   "execution_count": null,
   "id": "dc8010fb",
   "metadata": {},
   "outputs": [],
   "source": [
    "import geopandas as gpd\n",
    "from geopandas import GeoDataFrame"
   ]
  },
  {
   "cell_type": "code",
   "execution_count": null,
   "id": "fa1abfe7",
   "metadata": {},
   "outputs": [],
   "source": [
    "def df_to_gpd(traffic_df: pd.DataFrame):\n",
    "    return GeoDataFrame(traffic_df, geometry=gpd.points_from_xy(traffic_df['longitude'], traffic_df['latitude'], crs='EPSG:4326'))"
   ]
  },
  {
   "cell_type": "code",
   "execution_count": null,
   "id": "5cfb508e",
   "metadata": {},
   "outputs": [],
   "source": [
    "@track_emissions(project_name=\"Urban Digital Twin Bonn - Read GPD\", output_file=\"log/emissions-read.user\", offline=True, country_iso_code=\"USA\")\n",
    "def track_read_gpd(traffic_filepath: str):\n",
    "    traffic_df = read_sqlite_as_df(traffic_filepath, \"SELECT * FROM agent_pos;\")\n",
    "    traffic_gpd = df_to_gpd(traffic_df)\n",
    "    GeoAccessor.from_geodataframe(traffic_gpd, inplace=True, column_name='SHAPE')\n",
    "    numpy_to_featureclass(traffic_arr, 'memory/traffic_data_arr')"
   ]
  },
  {
   "cell_type": "code",
   "execution_count": null,
   "id": "c471c1fe",
   "metadata": {},
   "outputs": [],
   "source": [
    "track_read_gpd(traffic_filepath)"
   ]
  },
  {
   "cell_type": "code",
   "execution_count": null,
   "id": "c27fcec5",
   "metadata": {},
   "outputs": [],
   "source": [
    "read_emissions_df = read_emissions(\"log/emissions-read.user\")\n",
    "read_emissions_df.sort_values(by='emissions')"
   ]
  },
  {
   "cell_type": "code",
   "execution_count": null,
   "id": "ca709da6",
   "metadata": {},
   "outputs": [],
   "source": []
  }
 ],
 "metadata": {
  "kernelspec": {
   "display_name": "Python 3 (ipykernel)",
   "language": "python",
   "name": "python3"
  },
  "language_info": {
   "codemirror_mode": {
    "name": "ipython",
    "version": 3
   },
   "file_extension": ".py",
   "mimetype": "text/x-python",
   "name": "python",
   "nbconvert_exporter": "python",
   "pygments_lexer": "ipython3",
   "version": "3.9.18"
  }
 },
 "nbformat": 4,
 "nbformat_minor": 5
}
