{
 "cells": [
  {
   "cell_type": "markdown",
   "id": "8ae75ba2",
   "metadata": {},
   "source": [
    "# Summary of the carbon emissions"
   ]
  },
  {
   "cell_type": "code",
   "execution_count": null,
   "id": "9047141a",
   "metadata": {},
   "outputs": [],
   "source": [
    "from datetime import datetime, timedelta\n",
    "import pandas as pd"
   ]
  },
  {
   "cell_type": "code",
   "execution_count": null,
   "id": "280d74a2",
   "metadata": {},
   "outputs": [],
   "source": [
    "def read_emissions(filepath: str):\n",
    "    return pd.read_csv(filepath)\n",
    "\n",
    "def predict_aggregated_emissions(emissions_df, timespan, predicted_timespan):\n",
    "    aggregated_emissions_df = emissions_df.groupby(['project_name']).mean().reset_index()\n",
    "    scale = predicted_timespan/timespan\n",
    "    predicted_emissions_df = pd.DataFrame(index=aggregated_emissions_df.index)\n",
    "    predicted_emissions_df['timestamp'] = emissions_df['timestamp'].max()\n",
    "    predicted_emissions_df['project_name'] = aggregated_emissions_df['project_name']\n",
    "    predicted_emissions_df['run_id'] = emissions_df['run_id'].max()\n",
    "    predicted_emissions_df['duration'] = scale * aggregated_emissions_df['duration']\n",
    "    predicted_emissions_df['emissions'] = scale * aggregated_emissions_df['emissions']\n",
    "    predicted_emissions_df['emissions_rate'] = emissions_df['emissions_rate'].mode()[0]\n",
    "    predicted_emissions_df['cpu_power'] = scale * aggregated_emissions_df['cpu_power']\n",
    "    predicted_emissions_df['gpu_power'] = scale * aggregated_emissions_df['gpu_power']\n",
    "    predicted_emissions_df['ram_power'] = scale * aggregated_emissions_df['ram_power']\n",
    "    predicted_emissions_df['cpu_energy'] = scale * aggregated_emissions_df['cpu_energy']\n",
    "    predicted_emissions_df['gpu_energy'] = scale * aggregated_emissions_df['gpu_energy']\n",
    "    predicted_emissions_df['ram_energy'] = scale * aggregated_emissions_df['ram_energy']\n",
    "    predicted_emissions_df['energy_consumed'] = scale * aggregated_emissions_df['energy_consumed']\n",
    "    predicted_emissions_df['country_name'] = emissions_df['country_name'].mode()[0]\n",
    "    predicted_emissions_df['country_iso_code'] = emissions_df['country_iso_code'].mode()[0]\n",
    "    predicted_emissions_df['region'] = emissions_df['region'].mode()\n",
    "    predicted_emissions_df['cloud_provider'] = emissions_df['cloud_provider'].mode()\n",
    "    predicted_emissions_df['cloud_region'] = emissions_df['cloud_region'].mode()\n",
    "    predicted_emissions_df['os'] = emissions_df['os'].mode()[0]\n",
    "    predicted_emissions_df['python_version'] = emissions_df['python_version'].mode()[0]\n",
    "    predicted_emissions_df['cpu_count'] = emissions_df['cpu_count'].mode()[0]\n",
    "    predicted_emissions_df['cpu_model'] = emissions_df['cpu_model'].mode()[0]\n",
    "    predicted_emissions_df['gpu_count'] = emissions_df['gpu_count'].mode()[0]\n",
    "    predicted_emissions_df['gpu_model'] = emissions_df['gpu_model'].mode()[0]\n",
    "    predicted_emissions_df['longitude'] = emissions_df['longitude'].mode()\n",
    "    predicted_emissions_df['latitude'] = emissions_df['latitude'].mode()\n",
    "    predicted_emissions_df['ram_total_size'] = emissions_df['ram_total_size'].mode()[0]\n",
    "    predicted_emissions_df['tracking_mode'] = emissions_df['tracking_mode'].mode()[0]\n",
    "    predicted_emissions_df['on_cloud'] = emissions_df['on_cloud'].mode()[0]    \n",
    "    return predicted_emissions_df\n",
    "\n",
    "def predict_emissions(emissions_df, timespan, predicted_timespan):\n",
    "    scale = predicted_timespan/timespan\n",
    "    predicted_emissions_df = emissions_df.copy()    \n",
    "    predicted_emissions_df['duration'] = scale * emissions_df['duration']\n",
    "    predicted_emissions_df['emissions'] = scale * emissions_df['emissions']\n",
    "    predicted_emissions_df['cpu_power'] = scale * emissions_df['cpu_power']\n",
    "    predicted_emissions_df['gpu_power'] = scale * emissions_df['gpu_power']\n",
    "    predicted_emissions_df['ram_power'] = scale * emissions_df['ram_power']\n",
    "    predicted_emissions_df['cpu_energy'] = scale * emissions_df['cpu_energy']\n",
    "    predicted_emissions_df['gpu_energy'] = scale * emissions_df['gpu_energy']\n",
    "    predicted_emissions_df['ram_energy'] = scale * emissions_df['ram_energy']\n",
    "    predicted_emissions_df['energy_consumed'] = scale * emissions_df['energy_consumed']\n",
    "    return predicted_emissions_df\n",
    "\n",
    "def repeat_emissions(emissions_df, total_count):\n",
    "    scale = int(total_count/emissions_df.shape[0])\n",
    "    predicted_emissions_df = emissions_df.loc[emissions_df.index.repeat(scale)].reset_index(drop=True)\n",
    "    if predicted_emissions_df.shape[0] < total_count:\n",
    "        predicted_emissions_df = pd.concat([predicted_emissions_df, predicted_emissions_df[:total_count - predicted_emissions_df.shape[0]]])\n",
    "    return predicted_emissions_df"
   ]
  },
  {
   "cell_type": "code",
   "execution_count": null,
   "id": "9072682b",
   "metadata": {},
   "outputs": [],
   "source": [
    "emissions_df = read_emissions(\"../log/emissions.user\")\n",
    "timespan = timedelta(minutes=1)\n",
    "predicted_timespan = timedelta(hours=24)\n",
    "predicted_emissions_df = predict_emissions(emissions_df, timespan, predicted_timespan)\n",
    "predicted_emissions_df = repeat_emissions(predicted_emissions_df, 365)\n",
    "predicted_emissions_df"
   ]
  },
  {
   "cell_type": "code",
   "execution_count": null,
   "id": "e96ae824",
   "metadata": {},
   "outputs": [],
   "source": [
    "predicted_emissions_df.to_csv(\"../log/emissions-year.user\", index=False)\n",
    "#read_emissions(\"../log/emissions-year.user\")"
   ]
  },
  {
   "cell_type": "code",
   "execution_count": null,
   "id": "4f3149ca",
   "metadata": {},
   "outputs": [],
   "source": [
    "emissions_df.describe()"
   ]
  },
  {
   "cell_type": "code",
   "execution_count": null,
   "id": "da5cdf19",
   "metadata": {},
   "outputs": [],
   "source": [
    "predicted_emissions_df.describe()"
   ]
  },
  {
   "cell_type": "code",
   "execution_count": null,
   "id": "47e28a24",
   "metadata": {},
   "outputs": [],
   "source": [
    "for col in emissions_df.columns:\n",
    "    print(col)"
   ]
  },
  {
   "cell_type": "code",
   "execution_count": null,
   "id": "749a1723",
   "metadata": {},
   "outputs": [],
   "source": [
    "for col in predicted_emissions_df.columns:\n",
    "    print(col)"
   ]
  },
  {
   "cell_type": "code",
   "execution_count": null,
   "id": "e852b21d",
   "metadata": {},
   "outputs": [],
   "source": []
  }
 ],
 "metadata": {
  "kernelspec": {
   "display_name": "Python 3 (ipykernel)",
   "language": "python",
   "name": "python3"
  },
  "language_info": {
   "codemirror_mode": {
    "name": "ipython",
    "version": 3
   },
   "file_extension": ".py",
   "mimetype": "text/x-python",
   "name": "python",
   "nbconvert_exporter": "python",
   "pygments_lexer": "ipython3",
   "version": "3.9.16"
  }
 },
 "nbformat": 4,
 "nbformat_minor": 5
}
