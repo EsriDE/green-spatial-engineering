{
 "cells": [
  {
   "cell_type": "markdown",
   "id": "25433ac2",
   "metadata": {},
   "source": [
    "# Urban digital twin scenarios\n",
    "For the spatial operations you need at least arcpy or shapely and pyproj installed."
   ]
  },
  {
   "cell_type": "code",
   "execution_count": null,
   "id": "647e8ca6",
   "metadata": {},
   "outputs": [],
   "source": [
    "from arcgis.features import FeatureSet, GeoAccessor\n",
    "from codecarbon import track_emissions\n",
    "from configparser import ConfigParser\n",
    "import json\n",
    "import logging\n",
    "import os\n",
    "import pandas as pd\n",
    "import sqlite3 as sql\n",
    "import warnings"
   ]
  },
  {
   "cell_type": "code",
   "execution_count": null,
   "id": "360883b1",
   "metadata": {},
   "outputs": [],
   "source": [
    "def read_geojson_as_sdf(filepath: str, encoding: str='utf8'):\n",
    "    \"\"\"\n",
    "    Reads a GeoJSON file as a FeatureSet.\n",
    "    \"\"\"\n",
    "    with open(filepath, encoding=encoding) as in_stream:\n",
    "        return FeatureSet.from_geojson(json.load(in_stream)).sdf\n",
    "    \n",
    "def read_sqlite_as_sdf(db_filepath: str, select_statement: str, x_column: str='longitude', y_column: str='latitude'):\n",
    "    \"\"\"\n",
    "    Reads the data from a sqlite database into main memory using a SQL statement.\n",
    "    \"\"\"\n",
    "    with sql.connect(db_filepath) as connection:\n",
    "        df = pd.read_sql_query(select_statement, connection)\n",
    "        return GeoAccessor.from_xy(df, x_column, y_column)"
   ]
  },
  {
   "cell_type": "code",
   "execution_count": null,
   "id": "5f7fcdec",
   "metadata": {},
   "outputs": [],
   "source": [
    "config = ConfigParser()\n",
    "config.read('config.user')"
   ]
  },
  {
   "cell_type": "code",
   "execution_count": null,
   "id": "4b446000",
   "metadata": {},
   "outputs": [],
   "source": [
    "@track_emissions(project_name='Urban Digital Twin Bonn', output_file='emissions.user', offline=True, country_iso_code='USA')\n",
    "def urban_intersect():\n",
    "    logger = logging.getLogger('codecarbon')\n",
    "    logger.info('Load urban datasets...')\n",
    "    districts_sdf = read_geojson_as_sdf(config['DEFAULT']['CityDistrictsFilePath'], encoding='cp1252')\n",
    "    streets_sdf = read_geojson_as_sdf(config['DEFAULT']['CityStreetFilePath'])\n",
    "    if 'area' in streets_sdf.columns:\n",
    "        streets_sdf = streets_sdf[streets_sdf['area'].isna()]\n",
    "    traffic_sdf = read_sqlite_as_sdf(config['DEFAULT']['TrafficFilePath'], 'SELECT * from agent_pos LIMIT 10;')\n",
    "    logger.info('Urban datasets loaded.')\n",
    "    \n",
    "    logger.info('Intersecting traffic with city districts...')\n",
    "    traffic_joined_districts_sdf = traffic_sdf.spatial.join(districts_sdf, how='inner', op='intersects')\n",
    "    logger.info(f'{traffic_joined_districts_sdf.shape[0]} traffic locations have intersections with city districts.')\n",
    "    \n",
    "    warnings.filterwarnings('ignore')\n",
    "    \n",
    "    logger.info('Projecting city streets...')\n",
    "    streets_sdf.spatial.project(25832, 'DHDN_To_WGS_1984_4_NTv2')\n",
    "    logger.info(f'{streets_sdf.shape[0]} city streets were projected.')\n",
    "    \n",
    "    logger.info('Projecting traffic locations...')\n",
    "    traffic_sdf.spatial.project(25832, 'DHDN_To_WGS_1984_4_NTv2')\n",
    "    logger.info(f'{traffic_sdf.shape[0]} traffic locations were projected.')\n",
    "    \n",
    "    warnings.filterwarnings('default')\n",
    "    \n",
    "    logger.info('Constructing city streets buffer...')\n",
    "    buffered_streets_sdf = streets_sdf.copy()\n",
    "    buffered_streets_sdf.SHAPE = streets_sdf.SHAPE.geom.buffer(50)\n",
    "    logger.info(f'{buffered_streets_sdf.shape[0]} city streets buffer were constructed.')\n",
    "    \n",
    "    logger.info('Intersecting traffic with city streets buffer...')\n",
    "    traffic_joined_buffered_streets_sdf = traffic_sdf.spatial.join(buffered_streets_sdf, how='inner', op='intersects')\n",
    "    logger.info(f'{traffic_joined_districts_sdf.shape[0]} traffic locations have intersections with city streets buffer.')\n",
    "    \n",
    "    # Join traffic with intersected streets buffer with original streets\n",
    "    # Calculate distance between traffic location and corresponding streets\n",
    "    logger.info('Calculating distances to city streets...')\n",
    "    traffic_joined_streets_sdf = pd.merge(traffic_joined_buffered_streets_sdf, streets_sdf, how='left', on='F_id', suffixes=['', '_street'])\n",
    "    traffic_joined_streets_sdf['distance_to'] = traffic_joined_streets_sdf.SHAPE.geom.distance_to(traffic_joined_streets_sdf.SHAPE_street)\n",
    "    logger.info(f'{traffic_joined_streets_sdf.shape[0]} distances to city streets were calculated.') "
   ]
  },
  {
   "cell_type": "code",
   "execution_count": null,
   "id": "888bf92e",
   "metadata": {},
   "outputs": [],
   "source": [
    "urban_intersect()"
   ]
  },
  {
   "cell_type": "code",
   "execution_count": null,
   "id": "7c17f899",
   "metadata": {},
   "outputs": [],
   "source": [
    "\n",
    "streets_sdf"
   ]
  },
  {
   "cell_type": "code",
   "execution_count": null,
   "id": "0f82185c",
   "metadata": {},
   "outputs": [],
   "source": [
    "import shapely"
   ]
  },
  {
   "cell_type": "code",
   "execution_count": null,
   "id": "de1f4fa3",
   "metadata": {},
   "outputs": [],
   "source": []
  }
 ],
 "metadata": {
  "kernelspec": {
   "display_name": "Python 3 (ipykernel)",
   "language": "python",
   "name": "python3"
  },
  "language_info": {
   "codemirror_mode": {
    "name": "ipython",
    "version": 3
   },
   "file_extension": ".py",
   "mimetype": "text/x-python",
   "name": "python",
   "nbconvert_exporter": "python",
   "pygments_lexer": "ipython3",
   "version": "3.9.16"
  }
 },
 "nbformat": 4,
 "nbformat_minor": 5
}
