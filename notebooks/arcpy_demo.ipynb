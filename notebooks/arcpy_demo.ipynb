{
 "cells": [
  {
   "cell_type": "markdown",
   "id": "3894500d",
   "metadata": {},
   "source": [
    "# arcpy demo - traffic simulation"
   ]
  },
  {
   "cell_type": "markdown",
   "id": "c270bf94",
   "metadata": {},
   "source": [
    "## imports"
   ]
  },
  {
   "cell_type": "code",
   "execution_count": 5,
   "id": "f03cfab7",
   "metadata": {},
   "outputs": [],
   "source": [
    "from arcgis.features import GeoAccessor\n",
    "import json\n",
    "import logging\n",
    "import os\n",
    "import pandas as pd\n",
    "import sqlite3 as sql\n",
    "import warnings"
   ]
  },
  {
   "cell_type": "code",
   "execution_count": 6,
   "id": "7464e3df",
   "metadata": {},
   "outputs": [],
   "source": [
    "def read_sqlite_as_sdf(db_filepath: str, select_statement: str, x_column: str='longitude', y_column: str='latitude'):\n",
    "    \"\"\"\n",
    "    Reads the data from a sqlite database into main memory using a SQL statement.\n",
    "    \"\"\"\n",
    "    with sql.connect(db_filepath) as connection:\n",
    "        df = pd.read_sql_query(select_statement, connection)\n",
    "        return GeoAccessor.from_xy(df, x_column, y_column)\n",
    "    \n",
    "def read_sqlite_to_featureclass(db_filepath: str, select_statement: str, x_column: str='longitude', y_column: str='latitude') -> GeoAccessor:\n",
    "    \"\"\"\n",
    "    Reads the data from a sqlite database as an in memory feature class using a SQL statement.\n",
    "    \"\"\"\n",
    "    filename_with_extension = os.path.basename(db_filepath)\n",
    "    filename = os.path.splitext(filename_with_extension)[0]\n",
    "\n",
    "    sdf = read_sqlite_as_sdf(db_filepath, select_statement, x_column, y_column)\n",
    "    featureclass = sdf.spatial.to_featureclass(\"memory/\" + filename)\n",
    "    arcpy.management.ClearWorkspaceCache()\n",
    "    return featureclass"
   ]
  },
  {
   "cell_type": "code",
   "execution_count": 7,
   "id": "44a1eaf1",
   "metadata": {},
   "outputs": [
    {
     "name": "stdout",
     "output_type": "stream",
     "text": [
      "memory\\traffic_data_1min_1610\n"
     ]
    }
   ],
   "source": [
    "# TODO: No hard coded path\n",
    "feature_class = read_sqlite_to_featureclass(r\"C:\\Users\\thkn.ESRI-DE\\Downloads\\traffic_data_1min_1610.sqlite\", \"SELECT * from agent_pos LIMIT 10;\")\n",
    "print(feature_class)"
   ]
  },
  {
   "cell_type": "markdown",
   "id": "52cda3f1",
   "metadata": {},
   "source": [
    "## classes"
   ]
  },
  {
   "cell_type": "code",
   "execution_count": 8,
   "id": "17aba71c",
   "metadata": {},
   "outputs": [],
   "source": [
    "class Trip(object):\n",
    "\n",
    "    def __init__(self, name, trip_id, long, lat, trip_time, angle, distance, speed) -> None:\n",
    "        self.name = name\n",
    "        self.trip_id = trip_id\n",
    "        self.long = long\n",
    "        self.lat = lat\n",
    "        self.trip_time = trip_time\n",
    "        self.angle = angle\n",
    "        self.distance = distance\n",
    "        self.speed = speed"
   ]
  },
  {
   "cell_type": "code",
   "execution_count": 10,
   "id": "3122bd0c",
   "metadata": {},
   "outputs": [],
   "source": [
    "class MeasureTool(object):\n",
    "     \n",
    "    def create_geometry(self, longitude, latitude):\n",
    "\n",
    "        point = arcpy.Point(longitude, latitude)\n",
    "        point_geometry = arcpy.PointGeometry(point, arcpy.SpatialReference(4326))\n",
    "\n",
    "        return point_geometry\n",
    "\n",
    "    def measure(self, feature_class):\n",
    "        \n",
    "        trip_point_a = Trip(\"Point A\", int, float, float, 0, float, float, float)\n",
    "\n",
    "        feature_class_column_names = [\"trip\", \"longitude\", \"latitude\", \"trip_time\", \"point_direction\", \"point_distance\", \"speed\"]\n",
    "        with arcpy.da.UpdateCursor(feature_class, feature_class_column_names) as cur:\n",
    "\n",
    "            for row in cur:\n",
    "                \n",
    "                trip_point_b = Trip(\"Point B\", row[0], row[1], row[2], self.round_datetime(row[3]), float, float ,float)\n",
    "                if trip_point_b.trip_id == trip_point_a.trip_id:\n",
    "\n",
    "                    trip_point_b = self.calculate_distance_speed(trip_point_b, trip_point_a)\n",
    "                    row[4]=trip_point_b.angle\n",
    "                    row[5]=trip_point_b.distance\n",
    "                    row[6]=trip_point_b.speed\n",
    "\n",
    "                    cur.updateRow(row)\n",
    "\n",
    "                trip_point_a = Trip(\"Point A\", trip_point_b.trip_id, trip_point_b.long, trip_point_b.lat,\n",
    "                                    trip_point_b.trip_time, trip_point_b.angle, trip_point_b.distance, trip_point_b.speed)\n",
    "\n",
    "        return feature_class\n",
    "\n",
    "    def calculate_distance_speed(self, trip_point_b, trip_point_a):\n",
    "        current_point = self.create_geometry(trip_point_b.lat, trip_point_b.long)\n",
    "        last_point = self.create_geometry(trip_point_a.lat, trip_point_a.long)\n",
    "        trip_point_b.angle, trip_point_b.distance = current_point.angleAndDistanceTo(last_point)\n",
    "        \n",
    "        differential_seconds = datetime.timedelta.total_seconds(trip_point_b.trip_time - trip_point_a.trip_time)\n",
    "        trip_point_b.speed = trip_point_b.distance/differential_seconds * 3.6\n",
    "\n",
    "        return trip_point_b\n",
    "\n",
    "    def run(self, feature_class: str):\n",
    "        # TODO: Implement the add fields for 'speed, point_distance, point_direction'\n",
    "    \n",
    "        sorted_feature_class = \"memory/traffic_data\"\n",
    "        arcpy.Sort_management(feature_class, sorted_feature_class, [[\"trip\", \"ASCENDING\"], [\"trip_time\", \"ASCENDING\"]])\n",
    "        feature_class = arcpy.AddFields_management(in_table=sorted_feature_class, field_description=[[\"point_direction\", \"DOUBLE\", \"\", \"\", \"0\", \"\"], [\"point_distance\", \"DOUBLE\", \"\", \"\", \"0\", \"\"], [\"speed\", \"DOUBLE\", \"\", \"\", \"0\", \"\"]])\n",
    "\n",
    "        output = MeasureTool.measure(feature_class)\n",
    "        return output"
   ]
  },
  {
   "cell_type": "code",
   "execution_count": 11,
   "id": "9d56ed2a",
   "metadata": {},
   "outputs": [
    {
     "ename": "TypeError",
     "evalue": "run() missing 1 required positional argument: 'feature_class'",
     "output_type": "error",
     "traceback": [
      "\u001b[1;31m---------------------------------------------------------------------------\u001b[0m",
      "\u001b[1;31mTypeError\u001b[0m                                 Traceback (most recent call last)",
      "\u001b[1;32m~\\AppData\\Local\\Temp\\ipykernel_23508\\3044087915.py\u001b[0m in \u001b[0;36m<cell line: 1>\u001b[1;34m()\u001b[0m\n\u001b[1;32m----> 1\u001b[1;33m \u001b[0mMeasureTool\u001b[0m\u001b[1;33m.\u001b[0m\u001b[0mrun\u001b[0m\u001b[1;33m(\u001b[0m\u001b[0mfeature_class\u001b[0m\u001b[1;33m)\u001b[0m\u001b[1;33m\u001b[0m\u001b[1;33m\u001b[0m\u001b[0m\n\u001b[0m",
      "\u001b[1;31mTypeError\u001b[0m: run() missing 1 required positional argument: 'feature_class'"
     ]
    }
   ],
   "source": [
    "MeasureTool.run(feature_class)"
   ]
  },
  {
   "cell_type": "markdown",
   "id": "1d5cab17",
   "metadata": {},
   "source": [
    "# Analytics"
   ]
  },
  {
   "cell_type": "code",
   "execution_count": null,
   "id": "30b24535",
   "metadata": {},
   "outputs": [],
   "source": [
    "class SpaceTimeCube(object):\n",
    "    \n",
    "    def create_space_time_cube(feature_class: str, space_time_cube_path: str, time_interval: int, distance_interval: int):\n",
    "\n",
    "        projected_feature_class = arcpy.Project_management(in_dataset = feature_class,\n",
    "                                                           out_dataset = f\"{feature_class}_projected_25832\",\n",
    "                                                           out_coor_system = arcpy.SpatialReference(25832))\n",
    "\n",
    "        space_time_cube = arcpy.CreateSpaceTimeCube_stpm(projected_feature_class, \n",
    "                                       output_cube = f\"{space_time_cube_path}/SpaceTimeTrafficCube.nc\", \n",
    "                                       time_field =\"trip_time\",\n",
    "                                       time_step_interval =  f\"{time_interval} Minutes\",\n",
    "                                       distance_interval =  f\"{distance_interval} Meters\",\n",
    "                                       aggregation_shape_type=\"HEXAGON_GRID\")\n",
    "        \n",
    "        return space_time_cube\n",
    "\n",
    "    def visualize_space_time_cube(space_time_cube_path:str, output_geodatabase:str):\n",
    "\n",
    "        arcpy.VisualizeSpaceTimeCube3D_stpm(in_cube = space_time_cube_path,\n",
    "                                            cube_variable = \"COUNT\",\n",
    "                                            display_theme = \"VALUE\",\n",
    "                                            output_features = output_geodatabase + \"/SpaceTimeCubeVisualize\")\n",
    "\n"
   ]
  },
  {
   "cell_type": "code",
   "execution_count": null,
   "id": "45545c14",
   "metadata": {},
   "outputs": [],
   "source": [
    "SpaceTimeCube.create_space_time_cube()"
   ]
  },
  {
   "cell_type": "code",
   "execution_count": null,
   "id": "03d0b4f3",
   "metadata": {},
   "outputs": [],
   "source": [
    "class HotColdSpotsTool(object):\n",
    "\n",
    "    def create_hot_cold_spots_space_time(space_time_cube_path: str, output_geodatabase:str, distance_interval: int):\n",
    "    \n",
    "        arcpy.stpm.EmergingHotSpotAnalysis(in_cube = space_time_cube_path,\n",
    "                                           analysis_variable = \"COUNT\",\n",
    "                                           output_features = output_geodatabase + \"/SpaceTimeCube_EmergingHotSpotAnalysis\",\n",
    "                                           neighborhood_distance =  f\"{distance_interval} Meters\")\n",
    "\n",
    "        arcpy.stpm.LocalOutlierAnalysis(in_cube = space_time_cube_path,\n",
    "                                        analysis_variable = \"COUNT\",\n",
    "                                        output_features = output_geodatabase + \"/SpaceTimeCube_LocalOutlierAnalysis\",\n",
    "                                        neighborhood_distance =  f\"{distance_interval} Meters\")\n",
    "        \n",
    "    def create_hot_cold_spots_feature_class(feature_class: str, output_geodatabase:str, ):\n",
    "\n",
    "        arcpy.FindPointClusters_gapro(input_points = feature_class,\n",
    "                                      out_feature_class= f\"{output_geodatabase}_PointCluster\",\n",
    "                                      clustering_method=\"DBSCAN\",\n",
    "                                      minimum_points= 100,\n",
    "                                      search_distance=\"200 Meters\",\n",
    "                                      use_time=\"TIME\",\n",
    "                                      search_duration=\"10 Minutes\")\n",
    "\n",
    "        arcpy.CalculateDensity_gapro(input_layer = feature_class,\n",
    "                                     out_feature_class = f\"{output_geodatabase}_CalculateDensity\",\n",
    "                                     bin_type = \"HEXAGON\",\n",
    "                                     bin_size = \"200 Meters\",\n",
    "                                     weight = \"UNIFORM\",\n",
    "                                     neighborhood_size = \"300 Meters\",\n",
    "                                     area_unit_scale_factor = \"SQUARE_METERS\",\n",
    "                                     time_step_interval = \"10 Minutes\")\n",
    "        \n",
    "        arcpy.FindHotSpots_gapro(point_layer = feature_class,\n",
    "                                 out_feature_class = f\"{output_geodatabase}_FindHotSpots\",\n",
    "                                 bin_size = \"200 Meters\",\n",
    "                                 neighborhood_size = \"300 Meters\",\n",
    "                                 time_step_interval = \"10 Minutes\")"
   ]
  },
  {
   "cell_type": "markdown",
   "id": "335a4fca",
   "metadata": {},
   "source": [
    "HotColdSpotsTool.create_hot_cold_spots_space_time()"
   ]
  }
 ],
 "metadata": {
  "kernelspec": {
   "display_name": "Python 3 (ipykernel)",
   "language": "python",
   "name": "python3"
  },
  "language_info": {
   "codemirror_mode": {
    "name": "ipython",
    "version": 3
   },
   "file_extension": ".py",
   "mimetype": "text/x-python",
   "name": "python",
   "nbconvert_exporter": "python",
   "pygments_lexer": "ipython3",
   "version": "3.9.16"
  }
 },
 "nbformat": 4,
 "nbformat_minor": 5
}
