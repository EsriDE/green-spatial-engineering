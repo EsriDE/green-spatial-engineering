{
 "cells": [
  {
   "cell_type": "markdown",
   "id": "3894500d",
   "metadata": {},
   "source": [
    "# Arcpy demo - traffic simulation"
   ]
  },
  {
   "cell_type": "markdown",
   "id": "c270bf94",
   "metadata": {},
   "source": [
    "## Import necessary packages"
   ]
  },
  {
   "cell_type": "code",
   "execution_count": null,
   "id": "f03cfab7",
   "metadata": {},
   "outputs": [],
   "source": [
    "from arcgis.features import GeoAccessor\n",
    "import os\n",
    "import pandas as pd\n",
    "import sqlite3 as sql\n",
    "import arcpy"
   ]
  },
  {
   "cell_type": "markdown",
   "id": "86eb90e2",
   "metadata": {},
   "source": [
    "### Define Workspace"
   ]
  },
  {
   "cell_type": "code",
   "execution_count": null,
   "id": "fe8c0c7b",
   "metadata": {},
   "outputs": [],
   "source": [
    "workspace_dir = \"C:/arcgis/home/traffic_simulation/\"\n",
    "os.chdir(workspace_dir)\n",
    "gdb = arcpy.management.CreateFileGDB(workspace_dir, \"traffic\")\n",
    "arcpy.env.workspace = gdb[0]"
   ]
  },
  {
   "cell_type": "markdown",
   "id": "a32ea5c0",
   "metadata": {},
   "source": [
    "## Define methods to read data from sqlite to feature class"
   ]
  },
  {
   "cell_type": "code",
   "execution_count": null,
   "id": "7464e3df",
   "metadata": {},
   "outputs": [],
   "source": [
    "def read_sqlite_as_sdf(db_filepath: str, select_statement: str, x_column: str='longitude', y_column: str='latitude'):\n",
    "    \"\"\"\n",
    "    Reads the data from a sqlite database into main memory using a SQL statement.\n",
    "    \"\"\"\n",
    "    with sql.connect(db_filepath) as connection:\n",
    "        df = pd.read_sql_query(select_statement, connection)\n",
    "        return GeoAccessor.from_xy(df, x_column, y_column)\n",
    "    \n",
    "def read_sqlite_to_featureclass(db_filepath: str, select_statement: str, x_column: str='longitude', y_column: str='latitude') -> GeoAccessor:\n",
    "    \"\"\"\n",
    "    Reads the data from a sqlite database as an in memory feature class using a SQL statement.\n",
    "    \"\"\"\n",
    "    filename_with_extension = os.path.basename(db_filepath)\n",
    "    filename = os.path.splitext(filename_with_extension)[0]\n",
    "\n",
    "    sdf = read_sqlite_as_sdf(db_filepath, select_statement, x_column, y_column)\n",
    "    featureclass = sdf.spatial.to_featureclass(\"memory/\" + filename)\n",
    "    arcpy.management.ClearWorkspaceCache()\n",
    "    return featureclass"
   ]
  },
  {
   "cell_type": "markdown",
   "id": "52cda3f1",
   "metadata": {},
   "source": [
    "## Define classes"
   ]
  },
  {
   "cell_type": "code",
   "execution_count": null,
   "id": "17aba71c",
   "metadata": {},
   "outputs": [],
   "source": [
    "class Trip(object):\n",
    "\n",
    "    def __init__(self, name, trip_id, long, lat, trip_time, angle, distance, speed) -> None:\n",
    "        self.name = name\n",
    "        self.trip_id = trip_id\n",
    "        self.long = long\n",
    "        self.lat = lat\n",
    "        self.trip_time = trip_time\n",
    "        self.angle = angle\n",
    "        self.distance = distance\n",
    "        self.speed = speed\n",
    "    \n",
    "    @staticmethod\n",
    "    def create_empty():\n",
    "        \n",
    "        return Trip(\"empty trip\", None, None, None, None, None, None, None)\n",
    "\n",
    "    def equals(self, other) -> bool:\n",
    "        if other is None: \n",
    "            return False\n",
    "        \n",
    "        return self.trip_id == other.trip_id "
   ]
  },
  {
   "cell_type": "markdown",
   "id": "be3edb5c",
   "metadata": {},
   "source": [
    "Define the MeasureTool to calculate speed, point_distance, and point_direction, and add fields to the feature class."
   ]
  },
  {
   "cell_type": "code",
   "execution_count": null,
   "id": "3122bd0c",
   "metadata": {},
   "outputs": [],
   "source": [
    "class MeasureTool(object):\n",
    "    \n",
    "    def change_timefield(self, feature_class: str):\n",
    "        out_feature_class = arcpy.conversion.ExportFeatures(\n",
    "            in_features=feature_class,\n",
    "            out_features=\"memory/traffic_data_changed_timefield\",\n",
    "            use_field_alias_as_name=\"NOT_USE_ALIAS\",\n",
    "            field_mapping='id \"id\" true true false 0 Long 0 0,First,#,traffic_data,id,-1,-1;trip \"trip\" true true false 0 Long 0 0,First,#,traffic_data,trip,-1,-1;person \"person\" true true false 0 Long 0 0,First,#,traffic_data,person,-1,-1;vehicle_type \"vehicle_type\" true true false 8 Text 0 0,First,#,traffic_data,vehicle_type,0,8;distance_crossed \"distance_crossed\" true true false 0 Long 0 0,First,#,traffic_data,distance_crossed,-1,-1;latitude \"latitude\" true true false 0 Double 0 0,First,#,traffic_data,latitude,-1,-1;longitude \"longitude\" true true false 0 Double 0 0,First,#,traffic_data,longitude,-1,-1;trip_time_old \"trip_time_old\" true true false 38 Text 0 0,First,#,traffic_data,trip_time,0,38',)\n",
    "        \n",
    "        return out_feature_class[0]\n",
    "        \n",
    "    def create_geometry(self, longitude, latitude):\n",
    "\n",
    "        point = arcpy.Point(longitude, latitude)\n",
    "        point_geometry = arcpy.PointGeometry(point, arcpy.SpatialReference(4326))\n",
    "\n",
    "        return point_geometry\n",
    "\n",
    "    def measure(self, feature_class):\n",
    "        \n",
    "        trip_point_a = Trip.create_empty()\n",
    "\n",
    "        feature_class_column_names = [\"trip\", \"longitude\", \"latitude\", \"trip_time\", \"trip_time_old\", \"point_direction\", \"point_distance\", \"speed\"]\n",
    "        with arcpy.da.UpdateCursor(feature_class, feature_class_column_names) as cur:\n",
    "\n",
    "            for row in cur:\n",
    "                \n",
    "                timestamp_string = row[4]\n",
    "                \n",
    "                format_string = \"%Y-%m-%dT%H:%M:%S\"\n",
    "                datetime_object = datetime.datetime.strptime(timestamp_string, format_string)\n",
    "                row[3] = datetime.datetime.fromtimestamp(datetime.datetime.timestamp(datetime_object) - 3600)\n",
    "                \n",
    "                trip_point_b = Trip(\"Point B\", row[0], row[1], row[2], row[3], float, float ,float)\n",
    "                if trip_point_b.equals(trip_point_a):\n",
    "\n",
    "                    trip_point_b = self.calculate_distance_speed(trip_point_b, trip_point_a)\n",
    "                    row[5]=trip_point_b.angle\n",
    "                    row[6]=trip_point_b.distance\n",
    "                    row[7]=trip_point_b.speed\n",
    "\n",
    "                cur.updateRow(row)\n",
    "\n",
    "                trip_point_a = Trip(\"Point A\", trip_point_b.trip_id, trip_point_b.long, trip_point_b.lat,\n",
    "                                    trip_point_b.trip_time, trip_point_b.angle, trip_point_b.distance, trip_point_b.speed)\n",
    "\n",
    "        return feature_class\n",
    "\n",
    "    def calculate_distance_speed(self, trip_point_b, trip_point_a):\n",
    "        current_point = self.create_geometry(trip_point_b.lat, trip_point_b.long)\n",
    "        last_point = self.create_geometry(trip_point_a.lat, trip_point_a.long)\n",
    "        trip_point_b.angle, trip_point_b.distance = current_point.angleAndDistanceTo(last_point)\n",
    "        \n",
    "        differential_seconds = datetime.timedelta.total_seconds(trip_point_b.trip_time - trip_point_a.trip_time)\n",
    "\n",
    "        if trip_point_b.distance == 0:\n",
    "            trip_point_b.speed = 0\n",
    "        else:\n",
    "            trip_point_b.speed = trip_point_b.distance/differential_seconds * 3.6\n",
    "\n",
    "        trip_point_b.distance = round(trip_point_b.distance, 2)\n",
    "\n",
    "        return trip_point_b\n",
    "\n",
    "    def run(self, feature_class: str):\n",
    "            \n",
    "        feature_class = self.change_timefield(feature_class)\n",
    "\n",
    "        sorted_feature_class = \"memory/traffic_data\"\n",
    "        arcpy.Sort_management(feature_class, sorted_feature_class, [[\"trip\", \"ASCENDING\"], [\"trip_time_old\", \"ASCENDING\"]])\n",
    "        feature_class = arcpy.AddFields_management(in_table=sorted_feature_class, field_description=[[\"trip_time\", \"DATE\"],[\"point_direction\", \"DOUBLE\", \"\", \"\", \"0\", \"\"], [\"point_distance\", \"DOUBLE\", \"\", \"\", \"0\", \"\"], [\"speed\", \"DOUBLE\", \"\", \"\", \"0\", \"\"]])\n",
    "\n",
    "        self.measure(feature_class)\n",
    "        arcpy.DeleteField_management(feature_class, drop_field=[\"trip_time_old\", \"ORIG_FID\"])\n",
    "        return feature_class"
   ]
  },
  {
   "cell_type": "markdown",
   "id": "3a841978",
   "metadata": {},
   "source": [
    "## Run MeasureTool()\n",
    "\n",
    "When you run MeasureTool.run(), it calculates speed, point_distance, and point_direction and adds fields to the feature class."
   ]
  },
  {
   "cell_type": "code",
   "execution_count": null,
   "id": "0625d1b9",
   "metadata": {},
   "outputs": [],
   "source": [
    "feature_class = read_sqlite_to_featureclass(\"traffic_data.sqlite\", \"SELECT * from agent_pos LIMIT 300000;\")"
   ]
  },
  {
   "cell_type": "code",
   "execution_count": null,
   "id": "9d56ed2a",
   "metadata": {},
   "outputs": [],
   "source": [
    "MT = MeasureTool()\n",
    "fc = MT.run(feature_class)"
   ]
  },
  {
   "cell_type": "markdown",
   "id": "1d5cab17",
   "metadata": {},
   "source": [
    "## Geoanalytics and Geoprocessing Tools"
   ]
  },
  {
   "cell_type": "markdown",
   "id": "dc01b30f",
   "metadata": {},
   "source": [
    "### Defining classes to create a space-time cube and visualize it"
   ]
  },
  {
   "cell_type": "code",
   "execution_count": null,
   "id": "30b24535",
   "metadata": {},
   "outputs": [],
   "source": [
    "class SpaceTimeCube(object):\n",
    "    \n",
    "    def create_space_time_cube(self, feature_class: str, space_time_cube_path: str, time_interval: int, distance_interval: int):\n",
    "\n",
    "        geodatabase_feature_class = arcpy.ExportFeatures_conversion(feature_class, \"trafficFeatureClass\")\n",
    "\n",
    "        projected_feature_class = arcpy.Project_management(in_dataset = geodatabase_feature_class,\n",
    "                                                           out_dataset = f\"{geodatabase_feature_class}_projected_25832\",\n",
    "                                                           out_coor_system = arcpy.SpatialReference(25832))\n",
    "\n",
    "        space_time_cube = arcpy.CreateSpaceTimeCube_stpm(projected_feature_class, \n",
    "                                       output_cube = f\"{space_time_cube_path}/SpaceTimeTrafficCube.nc\", \n",
    "                                       time_field =\"trip_time\",\n",
    "                                       time_step_interval = f\"{time_interval} Minutes\",\n",
    "                                       distance_interval =  f\"{distance_interval} Meters\",\n",
    "                                       aggregation_shape_type=\"HEXAGON_GRID\")\n",
    "\n",
    "        return space_time_cube\n",
    "\n",
    "    def visualize_space_time_cube(self, space_time_cube_path:str):\n",
    "\n",
    "        arcpy.VisualizeSpaceTimeCube3D_stpm(in_cube = space_time_cube_path,\n",
    "                                            cube_variable = \"COUNT\",\n",
    "                                            display_theme = \"VALUE\",\n",
    "                                            output_features = \"SpaceTimeCubeVisualize\")"
   ]
  },
  {
   "cell_type": "markdown",
   "id": "7dfbdfc9",
   "metadata": {},
   "source": [
    "### Creating a space-time cube for traffic data and visualizing it"
   ]
  },
  {
   "cell_type": "code",
   "execution_count": null,
   "id": "f653a176",
   "metadata": {},
   "outputs": [],
   "source": [
    "stc = SpaceTimeCube()\n",
    "space_time_cube = stc.create_space_time_cube(feature_class, workspace_dir, 1, 200)\n",
    "space_time_cube_visualize = stc.visualize_space_time_cube(space_time_cube[0])"
   ]
  },
  {
   "cell_type": "markdown",
   "metadata": {},
   "source": [
    "### Creating class for HotColdSpotsTool"
   ]
  },
  {
   "cell_type": "code",
   "execution_count": null,
   "id": "03d0b4f3",
   "metadata": {},
   "outputs": [],
   "source": [
    "class HotColdSpotsTool(object):\n",
    "\n",
    "    def create_hot_cold_spots_space_time(self, space_time_cube_path: str, distance_interval: int):\n",
    "    \n",
    "        arcpy.stpm.EmergingHotSpotAnalysis(in_cube = space_time_cube_path,\n",
    "                                           analysis_variable = \"COUNT\",\n",
    "                                           output_features = \"SpaceTimeCube_EmergingHotSpotAnalysis\",\n",
    "                                           neighborhood_distance =  f\"{distance_interval} Meters\")\n",
    "\n",
    "        arcpy.stpm.LocalOutlierAnalysis(in_cube = space_time_cube_path,\n",
    "                                        analysis_variable = \"COUNT\",\n",
    "                                        output_features = \"SpaceTimeCube_LocalOutlierAnalysis\",\n",
    "                                        neighborhood_distance =  f\"{distance_interval} Meters\")\n",
    "        \n",
    "    def create_hot_cold_spots_feature_class(self, feature_class: str, distance_interval: int, time_interval: int):\n",
    "\n",
    "        arcpy.CalculateDensity_gapro(input_layer = feature_class,\n",
    "                                     out_feature_class = \"CalculateDensity\",\n",
    "                                     bin_type = \"HEXAGON\",\n",
    "                                     bin_size = f\"{distance_interval} Meters\",\n",
    "                                     weight = \"UNIFORM\",\n",
    "                                     neighborhood_size = f\"{distance_interval * 1.5} Meters\",\n",
    "                                     area_unit_scale_factor = \"SQUARE_METERS\",\n",
    "                                     time_step_interval = f\"{time_interval} Minutes\")\n",
    "        \n",
    "        arcpy.FindHotSpots_gapro(point_layer = feature_class,\n",
    "                                 out_feature_class = \"FindHotSpots\",\n",
    "                                 bin_size = f\"{distance_interval} Meters\",\n",
    "                                 neighborhood_size = f\"{distance_interval * 1.5} Meters\",\n",
    "                                 time_step_interval = f\"{time_interval} Minutes\")"
   ]
  },
  {
   "cell_type": "markdown",
   "metadata": {},
   "source": [
    "### Creating hot and cold spots for traffic simulation data"
   ]
  },
  {
   "cell_type": "code",
   "execution_count": null,
   "metadata": {},
   "outputs": [],
   "source": [
    "hot_cold_spots = HotColdSpotsTool()\n",
    "hot_cold_spots.create_hot_cold_spots_space_time(space_time_cube[0], 200)"
   ]
  },
  {
   "cell_type": "code",
   "execution_count": null,
   "metadata": {},
   "outputs": [],
   "source": [
    "project = arcpy.mp.ArcGISProject(\"CURRENT\")\n",
    "for focus_map in project.listMaps(\"Map\"):\n",
    "    for ais_layer in focus_map.listLayers(\"trafficFeatureClass_projected_25832\"):\n",
    "        ais_layer.enableTime(\"trip_time\")"
   ]
  },
  {
   "cell_type": "code",
   "execution_count": null,
   "metadata": {},
   "outputs": [],
   "source": [
    "hot_cold_spots.create_hot_cold_spots_feature_class(\"trafficFeatureClass_projected_25832\", 200, 1)"
   ]
  }
 ],
 "metadata": {
  "kernelspec": {
   "display_name": "Python 3 (ipykernel)",
   "language": "python",
   "name": "python3"
  },
  "language_info": {
   "codemirror_mode": {
    "name": "ipython",
    "version": 3
   },
   "file_extension": ".py",
   "mimetype": "text/x-python",
   "name": "python",
   "nbconvert_exporter": "python",
   "pygments_lexer": "ipython3",
   "version": "3.9.16"
  }
 },
 "nbformat": 4,
 "nbformat_minor": 5
}
