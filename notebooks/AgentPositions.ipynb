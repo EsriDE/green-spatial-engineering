{
 "cells": [
  {
   "cell_type": "markdown",
   "id": "afbab40d",
   "metadata": {},
   "source": [
    "# Agent Positions"
   ]
  },
  {
   "cell_type": "code",
   "execution_count": 111,
   "id": "ea7782ad",
   "metadata": {},
   "outputs": [],
   "source": [
    "import pandas as pd\n",
    "import geopandas as gpd\n",
    "from shapely.geometry import Point\n",
    "import matplotlib.pyplot as plt"
   ]
  },
  {
   "cell_type": "code",
   "execution_count": 59,
   "id": "ea17c54d",
   "metadata": {},
   "outputs": [
    {
     "name": "stdout",
     "output_type": "stream",
     "text": [
      "Enter App-ID:  ········\n",
      "Enter App-Secret:  ········\n",
      "Please sign in to your GIS and paste the code that is obtained below.\n",
      "If a web browser does not automatically open, please navigate to the URL below yourself instead.\n",
      "Opening web browser to navigate to: https://demoportal11.esri.de/portal/sharing/rest/oauth2/authorize?response_type=code&client_id=kjoDK8QXEa66qX17&redirect_uri=urn%3Aietf%3Awg%3Aoauth%3A2.0%3Aoob&state=nmKDmoxE8rK958BY8iaQof7x6K5fFx&allow_verification=false\n",
      "Enter code obtained on signing in using SAML: ········\n"
     ]
    }
   ],
   "source": [
    "import urllib3\n",
    "urllib3.disable_warnings(urllib3.exceptions.InsecureRequestWarning)\n",
    "\n",
    "from arcgis.gis import GIS\n",
    "from getpass import getpass\n",
    "gis = GIS(\"https://demoportal11.esri.de/portal\", client_id=getpass(\"Enter App-ID:  \"), client_secret=getpass(\"Enter App-Secret:  \"))"
   ]
  },
  {
   "cell_type": "code",
   "execution_count": 92,
   "id": "34e6d575",
   "metadata": {},
   "outputs": [
    {
     "name": "stdout",
     "output_type": "stream",
     "text": [
      "Enter App-ID:  ········\n",
      "Please sign in to your GIS and paste the code that is obtained below.\n",
      "If a web browser does not automatically open, please navigate to the URL below yourself instead.\n",
      "Opening web browser to navigate to: https://demoportal11.esri.de/portal/sharing/rest/oauth2/authorize?response_type=code&client_id=kjoDK8QXEa66qX17&redirect_uri=urn%3Aietf%3Awg%3Aoauth%3A2.0%3Aoob&state=fxSVkw3ZPDCqXiYAzONaCSMCLkYnNn&allow_verification=false\n",
      "Enter code obtained on signing in using SAML: ········\n"
     ]
    }
   ],
   "source": [
    "import urllib3\n",
    "urllib3.disable_warnings(urllib3.exceptions.InsecureRequestWarning)\n",
    "\n",
    "from arcgis.gis import GIS\n",
    "from getpass import getpass\n",
    "gis = GIS(\"https://demoportal11.esri.de/portal\", client_id=getpass(\"Enter App-ID:  \"))"
   ]
  },
  {
   "cell_type": "code",
   "execution_count": null,
   "id": "6154d66f",
   "metadata": {},
   "outputs": [],
   "source": []
  },
  {
   "cell_type": "code",
   "execution_count": 16,
   "id": "8939d467",
   "metadata": {},
   "outputs": [],
   "source": [
    "df = pd.read_csv(r\"C:\\Users\\thkn\\OneDrive - Esri Deutschland + Esri Schweiz\\Documents\\data\\midnight_weekday_agents.csv\")\n",
    "df2 = pd.read_csv(r\"C:\\Users\\thkn\\OneDrive - Esri Deutschland + Esri Schweiz\\Documents\\data\\early_weekday_agents.csv\")"
   ]
  },
  {
   "cell_type": "code",
   "execution_count": 43,
   "id": "ca0cf2a6",
   "metadata": {
    "scrolled": true
   },
   "outputs": [
    {
     "name": "stderr",
     "output_type": "stream",
     "text": [
      "C:\\Users\\thkn\\AppData\\Local\\miniconda3\\envs\\carbon\\lib\\site-packages\\pyproj\\crs\\crs.py:53: FutureWarning: '+init=<authority>:<code>' syntax is deprecated. '<authority>:<code>' is the preferred initialization method. When making the change, be mindful of axis order changes: https://pyproj4.github.io/pyproj/stable/gotchas.html#axis-order-changes-in-proj-6\n",
      "  return _prepare_from_string(\" \".join(pjargs))\n"
     ]
    },
    {
     "ename": "ProjError",
     "evalue": "x, y, z, and time must be same size",
     "output_type": "error",
     "traceback": [
      "\u001b[1;31m---------------------------------------------------------------------------\u001b[0m",
      "\u001b[1;31mProjError\u001b[0m                                 Traceback (most recent call last)",
      "\u001b[1;32m~\\AppData\\Local\\Temp\\ipykernel_7084\\791708505.py\u001b[0m in \u001b[0;36m<cell line: 14>\u001b[1;34m()\u001b[0m\n\u001b[0;32m     12\u001b[0m \u001b[1;31m# places = places.buffer(0.02)\u001b[0m\u001b[1;33m\u001b[0m\u001b[1;33m\u001b[0m\u001b[0m\n\u001b[0;32m     13\u001b[0m \u001b[1;33m\u001b[0m\u001b[0m\n\u001b[1;32m---> 14\u001b[1;33m \u001b[0mplaces\u001b[0m \u001b[1;33m=\u001b[0m \u001b[0mplaces\u001b[0m\u001b[1;33m.\u001b[0m\u001b[0mto_crs\u001b[0m\u001b[1;33m(\u001b[0m\u001b[1;36m25832\u001b[0m\u001b[1;33m)\u001b[0m \u001b[1;31m#Pick another\u001b[0m\u001b[1;33m\u001b[0m\u001b[1;33m\u001b[0m\u001b[0m\n\u001b[0m\u001b[0;32m     15\u001b[0m \u001b[0mplaces\u001b[0m\u001b[1;33m[\u001b[0m\u001b[1;34m'geometry'\u001b[0m\u001b[1;33m]\u001b[0m \u001b[1;33m=\u001b[0m \u001b[0mplaces\u001b[0m\u001b[1;33m[\u001b[0m\u001b[1;34m'geometry'\u001b[0m\u001b[1;33m]\u001b[0m\u001b[1;33m.\u001b[0m\u001b[0mbuffer\u001b[0m\u001b[1;33m(\u001b[0m\u001b[1;36m100\u001b[0m\u001b[1;33m)\u001b[0m\u001b[1;33m\u001b[0m\u001b[1;33m\u001b[0m\u001b[0m\n\u001b[0;32m     16\u001b[0m \u001b[0mplaces\u001b[0m \u001b[1;33m=\u001b[0m \u001b[0mplaces\u001b[0m\u001b[1;33m.\u001b[0m\u001b[0mto_crs\u001b[0m\u001b[1;33m(\u001b[0m\u001b[1;36m4326\u001b[0m\u001b[1;33m)\u001b[0m \u001b[1;31m#Back to 4326\u001b[0m\u001b[1;33m\u001b[0m\u001b[1;33m\u001b[0m\u001b[0m\n",
      "\u001b[1;32m~\\AppData\\Local\\miniconda3\\envs\\carbon\\lib\\site-packages\\geopandas\\geodataframe.py\u001b[0m in \u001b[0;36mto_crs\u001b[1;34m(self, crs, epsg, inplace)\u001b[0m\n\u001b[0;32m   1362\u001b[0m         \u001b[1;32melse\u001b[0m\u001b[1;33m:\u001b[0m\u001b[1;33m\u001b[0m\u001b[1;33m\u001b[0m\u001b[0m\n\u001b[0;32m   1363\u001b[0m             \u001b[0mdf\u001b[0m \u001b[1;33m=\u001b[0m \u001b[0mself\u001b[0m\u001b[1;33m.\u001b[0m\u001b[0mcopy\u001b[0m\u001b[1;33m(\u001b[0m\u001b[1;33m)\u001b[0m\u001b[1;33m\u001b[0m\u001b[1;33m\u001b[0m\u001b[0m\n\u001b[1;32m-> 1364\u001b[1;33m         \u001b[0mgeom\u001b[0m \u001b[1;33m=\u001b[0m \u001b[0mdf\u001b[0m\u001b[1;33m.\u001b[0m\u001b[0mgeometry\u001b[0m\u001b[1;33m.\u001b[0m\u001b[0mto_crs\u001b[0m\u001b[1;33m(\u001b[0m\u001b[0mcrs\u001b[0m\u001b[1;33m=\u001b[0m\u001b[0mcrs\u001b[0m\u001b[1;33m,\u001b[0m \u001b[0mepsg\u001b[0m\u001b[1;33m=\u001b[0m\u001b[0mepsg\u001b[0m\u001b[1;33m)\u001b[0m\u001b[1;33m\u001b[0m\u001b[1;33m\u001b[0m\u001b[0m\n\u001b[0m\u001b[0;32m   1365\u001b[0m         \u001b[0mdf\u001b[0m\u001b[1;33m.\u001b[0m\u001b[0mgeometry\u001b[0m \u001b[1;33m=\u001b[0m \u001b[0mgeom\u001b[0m\u001b[1;33m\u001b[0m\u001b[1;33m\u001b[0m\u001b[0m\n\u001b[0;32m   1366\u001b[0m         \u001b[1;32mif\u001b[0m \u001b[1;32mnot\u001b[0m \u001b[0minplace\u001b[0m\u001b[1;33m:\u001b[0m\u001b[1;33m\u001b[0m\u001b[1;33m\u001b[0m\u001b[0m\n",
      "\u001b[1;32m~\\AppData\\Local\\miniconda3\\envs\\carbon\\lib\\site-packages\\geopandas\\geoseries.py\u001b[0m in \u001b[0;36mto_crs\u001b[1;34m(self, crs, epsg)\u001b[0m\n\u001b[0;32m   1122\u001b[0m         \"\"\"\n\u001b[0;32m   1123\u001b[0m         return GeoSeries(\n\u001b[1;32m-> 1124\u001b[1;33m             \u001b[0mself\u001b[0m\u001b[1;33m.\u001b[0m\u001b[0mvalues\u001b[0m\u001b[1;33m.\u001b[0m\u001b[0mto_crs\u001b[0m\u001b[1;33m(\u001b[0m\u001b[0mcrs\u001b[0m\u001b[1;33m=\u001b[0m\u001b[0mcrs\u001b[0m\u001b[1;33m,\u001b[0m \u001b[0mepsg\u001b[0m\u001b[1;33m=\u001b[0m\u001b[0mepsg\u001b[0m\u001b[1;33m)\u001b[0m\u001b[1;33m,\u001b[0m \u001b[0mindex\u001b[0m\u001b[1;33m=\u001b[0m\u001b[0mself\u001b[0m\u001b[1;33m.\u001b[0m\u001b[0mindex\u001b[0m\u001b[1;33m,\u001b[0m \u001b[0mname\u001b[0m\u001b[1;33m=\u001b[0m\u001b[0mself\u001b[0m\u001b[1;33m.\u001b[0m\u001b[0mname\u001b[0m\u001b[1;33m\u001b[0m\u001b[1;33m\u001b[0m\u001b[0m\n\u001b[0m\u001b[0;32m   1125\u001b[0m         )\n\u001b[0;32m   1126\u001b[0m \u001b[1;33m\u001b[0m\u001b[0m\n",
      "\u001b[1;32m~\\AppData\\Local\\miniconda3\\envs\\carbon\\lib\\site-packages\\geopandas\\array.py\u001b[0m in \u001b[0;36mto_crs\u001b[1;34m(self, crs, epsg)\u001b[0m\n\u001b[0;32m    777\u001b[0m         \u001b[0mtransformer\u001b[0m \u001b[1;33m=\u001b[0m \u001b[0mTransformer\u001b[0m\u001b[1;33m.\u001b[0m\u001b[0mfrom_crs\u001b[0m\u001b[1;33m(\u001b[0m\u001b[0mself\u001b[0m\u001b[1;33m.\u001b[0m\u001b[0mcrs\u001b[0m\u001b[1;33m,\u001b[0m \u001b[0mcrs\u001b[0m\u001b[1;33m,\u001b[0m \u001b[0malways_xy\u001b[0m\u001b[1;33m=\u001b[0m\u001b[1;32mTrue\u001b[0m\u001b[1;33m)\u001b[0m\u001b[1;33m\u001b[0m\u001b[1;33m\u001b[0m\u001b[0m\n\u001b[0;32m    778\u001b[0m \u001b[1;33m\u001b[0m\u001b[0m\n\u001b[1;32m--> 779\u001b[1;33m         \u001b[0mnew_data\u001b[0m \u001b[1;33m=\u001b[0m \u001b[0mvectorized\u001b[0m\u001b[1;33m.\u001b[0m\u001b[0mtransform\u001b[0m\u001b[1;33m(\u001b[0m\u001b[0mself\u001b[0m\u001b[1;33m.\u001b[0m\u001b[0mdata\u001b[0m\u001b[1;33m,\u001b[0m \u001b[0mtransformer\u001b[0m\u001b[1;33m.\u001b[0m\u001b[0mtransform\u001b[0m\u001b[1;33m)\u001b[0m\u001b[1;33m\u001b[0m\u001b[1;33m\u001b[0m\u001b[0m\n\u001b[0m\u001b[0;32m    780\u001b[0m         \u001b[1;32mreturn\u001b[0m \u001b[0mGeometryArray\u001b[0m\u001b[1;33m(\u001b[0m\u001b[0mnew_data\u001b[0m\u001b[1;33m,\u001b[0m \u001b[0mcrs\u001b[0m\u001b[1;33m=\u001b[0m\u001b[0mcrs\u001b[0m\u001b[1;33m)\u001b[0m\u001b[1;33m\u001b[0m\u001b[1;33m\u001b[0m\u001b[0m\n\u001b[0;32m    781\u001b[0m \u001b[1;33m\u001b[0m\u001b[0m\n",
      "\u001b[1;32m~\\AppData\\Local\\miniconda3\\envs\\carbon\\lib\\site-packages\\geopandas\\_vectorized.py\u001b[0m in \u001b[0;36mtransform\u001b[1;34m(data, func)\u001b[0m\n\u001b[0;32m   1112\u001b[0m \u001b[1;33m\u001b[0m\u001b[0m\n\u001b[0;32m   1113\u001b[0m         \u001b[0mcoords_z\u001b[0m \u001b[1;33m=\u001b[0m \u001b[0mget_coordinates\u001b[0m\u001b[1;33m(\u001b[0m\u001b[0mdata\u001b[0m\u001b[1;33m[\u001b[0m\u001b[0mhas_z\u001b[0m\u001b[1;33m]\u001b[0m\u001b[1;33m,\u001b[0m \u001b[0minclude_z\u001b[0m\u001b[1;33m=\u001b[0m\u001b[1;32mTrue\u001b[0m\u001b[1;33m)\u001b[0m\u001b[1;33m\u001b[0m\u001b[1;33m\u001b[0m\u001b[0m\n\u001b[1;32m-> 1114\u001b[1;33m         \u001b[0mnew_coords_z\u001b[0m \u001b[1;33m=\u001b[0m \u001b[0mfunc\u001b[0m\u001b[1;33m(\u001b[0m\u001b[0mcoords_z\u001b[0m\u001b[1;33m[\u001b[0m\u001b[1;33m:\u001b[0m\u001b[1;33m,\u001b[0m \u001b[1;36m0\u001b[0m\u001b[1;33m]\u001b[0m\u001b[1;33m,\u001b[0m \u001b[0mcoords_z\u001b[0m\u001b[1;33m[\u001b[0m\u001b[1;33m:\u001b[0m\u001b[1;33m,\u001b[0m \u001b[1;36m1\u001b[0m\u001b[1;33m]\u001b[0m\u001b[1;33m,\u001b[0m \u001b[0mcoords_z\u001b[0m\u001b[1;33m[\u001b[0m\u001b[1;33m:\u001b[0m\u001b[1;33m,\u001b[0m \u001b[1;36m2\u001b[0m\u001b[1;33m]\u001b[0m\u001b[1;33m)\u001b[0m\u001b[1;33m\u001b[0m\u001b[1;33m\u001b[0m\u001b[0m\n\u001b[0m\u001b[0;32m   1115\u001b[0m         \u001b[0mresult\u001b[0m\u001b[1;33m[\u001b[0m\u001b[0mhas_z\u001b[0m\u001b[1;33m]\u001b[0m \u001b[1;33m=\u001b[0m \u001b[0mset_coordinates\u001b[0m\u001b[1;33m(\u001b[0m\u001b[0mdata\u001b[0m\u001b[1;33m[\u001b[0m\u001b[0mhas_z\u001b[0m\u001b[1;33m]\u001b[0m\u001b[1;33m.\u001b[0m\u001b[0mcopy\u001b[0m\u001b[1;33m(\u001b[0m\u001b[1;33m)\u001b[0m\u001b[1;33m,\u001b[0m \u001b[0mnp\u001b[0m\u001b[1;33m.\u001b[0m\u001b[0marray\u001b[0m\u001b[1;33m(\u001b[0m\u001b[0mnew_coords_z\u001b[0m\u001b[1;33m)\u001b[0m\u001b[1;33m.\u001b[0m\u001b[0mT\u001b[0m\u001b[1;33m)\u001b[0m\u001b[1;33m\u001b[0m\u001b[1;33m\u001b[0m\u001b[0m\n\u001b[0;32m   1116\u001b[0m \u001b[1;33m\u001b[0m\u001b[0m\n",
      "\u001b[1;32m~\\AppData\\Local\\miniconda3\\envs\\carbon\\lib\\site-packages\\pyproj\\transformer.py\u001b[0m in \u001b[0;36mtransform\u001b[1;34m(self, xx, yy, zz, tt, radians, errcheck, direction)\u001b[0m\n\u001b[0;32m    428\u001b[0m             \u001b[0mintime\u001b[0m \u001b[1;33m=\u001b[0m \u001b[1;32mNone\u001b[0m\u001b[1;33m\u001b[0m\u001b[1;33m\u001b[0m\u001b[0m\n\u001b[0;32m    429\u001b[0m         \u001b[1;31m# call pj_transform.  inx,iny,inz buffers modified in place.\u001b[0m\u001b[1;33m\u001b[0m\u001b[1;33m\u001b[0m\u001b[0m\n\u001b[1;32m--> 430\u001b[1;33m         self._transformer._transform(\n\u001b[0m\u001b[0;32m    431\u001b[0m             \u001b[0minx\u001b[0m\u001b[1;33m,\u001b[0m\u001b[1;33m\u001b[0m\u001b[1;33m\u001b[0m\u001b[0m\n\u001b[0;32m    432\u001b[0m             \u001b[0miny\u001b[0m\u001b[1;33m,\u001b[0m\u001b[1;33m\u001b[0m\u001b[1;33m\u001b[0m\u001b[0m\n",
      "\u001b[1;32mpyproj/_transformer.pyx\u001b[0m in \u001b[0;36mpyproj._transformer._Transformer._transform\u001b[1;34m()\u001b[0m\n",
      "\u001b[1;31mProjError\u001b[0m: x, y, z, and time must be same size"
     ]
    }
   ],
   "source": [
    "# geometry = gpd.points_from_xy(7.1156570, 50.7201054, crs=\"EPSG:4326\")\n",
    "# p = Point(7.1156570, 50.7201054)\n",
    "\n",
    "data = [(\"Esri Niederlassung Bonn\", 50.7201054, 7.1156570)]\n",
    "places = pd.DataFrame(data, columns=[\"name\", \"latitude\", \"longitude\"])\n",
    "places[\"geometry\"] = places.apply(lambda row: Point(row[\"longitude\"], row[\"latitude\"]), axis=1)\n",
    "del(places[\"latitude\"], places[\"longitude\"])\n",
    "\n",
    "places = gpd.GeoDataFrame(places, geometry=\"geometry\")\n",
    "places.crs = {\"init\": \"epsg:4326\"}\n",
    "\n",
    "# places = places.buffer(0.02)\n",
    "\n",
    "places = places.to_crs(25832) #Pick another\n",
    "places['geometry'] = places['geometry'].buffer(100)\n",
    "places = places.to_crs(4326) #Back to 4326\n",
    "\n",
    "# places.plot()\n",
    "# plt.show()"
   ]
  },
  {
   "cell_type": "code",
   "execution_count": 38,
   "id": "c2a407e0",
   "metadata": {},
   "outputs": [],
   "source": [
    "df_midnight_weekday = df\n",
    "df_midnight_weekday[\"geometry\"] = df_midnight_weekday.apply(lambda row: Point(row[\"longitude\"], row[\"latitude\"]), axis=1)\n",
    "\n",
    "del(df_midnight_weekday[\"latitude\"], df_midnight_weekday[\"longitude\"])\n",
    "\n",
    "df_midnight_weekday = gpd.GeoDataFrame(df_midnight_weekday, geometry=\"geometry\")\n"
   ]
  },
  {
   "cell_type": "code",
   "execution_count": 39,
   "id": "4b0132d8",
   "metadata": {},
   "outputs": [
    {
     "data": {
      "image/png": "[encoded data removed]",
      "text/plain": [
       "<Figure size 640x480 with 1 Axes>"
      ]
     },
     "metadata": {},
     "output_type": "display_data"
    }
   ],
   "source": [
    "fig, ax = plt.subplots()\n",
    "\n",
    "places.plot(ax=ax, color=\"red\")\n",
    "df_midnight_weekday.plot(ax=ax)\n",
    "\n",
    "plt.show()"
   ]
  },
  {
   "cell_type": "markdown",
   "id": "95c574d7",
   "metadata": {},
   "source": [
    "#### Anzahl der verschiedenen Personen"
   ]
  },
  {
   "cell_type": "code",
   "execution_count": 3,
   "id": "170b140d",
   "metadata": {},
   "outputs": [
    {
     "data": {
      "text/plain": [
       "43"
      ]
     },
     "execution_count": 3,
     "metadata": {},
     "output_type": "execute_result"
    }
   ],
   "source": [
    "df[\"person\"].nunique()"
   ]
  },
  {
   "cell_type": "markdown",
   "id": "353ebe9f",
   "metadata": {},
   "source": [
    "#### Anzahl der Personen, die an der Esri Niederlassung vorbeigelaufen sind"
   ]
  },
  {
   "cell_type": "code",
   "execution_count": 95,
   "id": "573ea6dd",
   "metadata": {
    "scrolled": false
   },
   "outputs": [
    {
     "data": {
      "text/plain": [
       "<FeatureCollection>"
      ]
     },
     "execution_count": 95,
     "metadata": {},
     "output_type": "execute_result"
    }
   ],
   "source": [
    "from arcgis.geometry import Point\n",
    "from arcgis.features.analysis import create_buffers\n",
    "from arcgis.features import FeatureSet, FeatureCollection\n",
    "\n",
    "pt = Point({\"x\" : 7.1156570, \"y\" : 50.7201054, \"spatialReference\" : {\"wkid\" : 4326}})\n",
    "\n",
    "feature = {\n",
    "    \"geometry\": pt,\n",
    "    \"attributes\": {}\n",
    "}\n",
    "feature_set = FeatureSet(features=[feature])\n",
    "feature_set.display_field_name = \"EsriBonn\"\n",
    "feature_collection = FeatureCollection.from_featureset(feature_set)\n",
    "feature_collection\n",
    "\n",
    "feature_collection_result = create_buffers(input_layer=feature_collection, distances = [50], units = \"Meters\") \n",
    "                                           #output_name=\"EsriBonn\", future = True)\n",
    "type(feature_collection_result)\n",
    "\n",
    "feature_collection"
   ]
  },
  {
   "cell_type": "code",
   "execution_count": 96,
   "id": "15a08abc",
   "metadata": {
    "scrolled": true
   },
   "outputs": [
    {
     "name": "stdout",
     "output_type": "stream",
     "text": [
      "{\n",
      "  \"featureSet\": {\n",
      "    \"features\": [\n",
      "      {\n",
      "        \"attributes\": {\n",
      "          \"OBJECTID\": 1,\n",
      "          \"BUFF_DIST\": 50,\n",
      "          \"ORIG_FID\": 1,\n",
      "          \"AnalysisArea\": 0.007836271868139242\n",
      "        },\n",
      "        \"geometry\": {\n",
      "          \"rings\": [\n",
      "            [\n",
      "              [\n",
      "                7.115657000170472,\n",
      "                50.720554866414034\n",
      "              ],\n",
      "              [\n",
      "                7.115739197306141,\n",
      "                50.72055182760482\n",
      "              ],\n",
      "              [\n",
      "                7.115820282879781,\n",
      "                50.72054275164675\n",
      "              ],\n",
      "              [\n",
      "                7.115899160617801,\n",
      "                50.72052776084752\n",
      "              ],\n",
      "              [\n",
      "                7.115974763024951,\n",
      "                50.7205070575547\n",
      "              ],\n",
      "              [\n",
      "                7.1160460684713485,\n",
      "                50.72048092325605\n",
      "              ],\n",
      "              [\n",
      "                7.116112111984421,\n",
      "                50.72044971048581\n",
      "              ],\n",
      "              [\n",
      "                7.1161720005374605,\n",
      "                50.720413841925335\n",
      "              ],\n",
      "              [\n",
      "                7.11622492474055,\n",
      "                50.720373801409835\n",
      "              ],\n",
      "              [\n",
      "                7.116270168733365,\n",
      "                50.72033013212996\n",
      "              ],\n",
      "              [\n",
      "                7.116307120976899,\n",
      "                50.720283423141495\n",
      "              ],\n",
      "              [\n",
      "                7.11633528054881,\n",
      "                50.720234306667976\n",
      "              ],\n",
      "              [\n",
      "                7.116354267935151,\n",
      "                50.72018344730827\n",
      "              ],\n",
      "              [\n",
      "                7.116363825929852,\n",
      "                50.720131532144535\n",
      "              ],\n",
      "              [\n",
      "                7.1163638250305326,\n",
      "                50.720079263547234\n",
      "              ],\n",
      "              [\n",
      "                7.116354265237192,\n",
      "                50.720027348383496\n",
      "              ],\n",
      "              [\n",
      "                7.116335276951531,\n",
      "                50.71997648992311\n",
      "              ],\n",
      "              [\n",
      "                7.11630711558098,\n",
      "                50.71992737344959\n",
      "              ],\n",
      "              [\n",
      "                7.11627016333739,\n",
      "                50.71988066536045\n",
      "              ],\n",
      "              [\n",
      "                7.116224918445255,\n",
      "                50.719836995181254\n",
      "              ],\n",
      "              [\n",
      "                7.1161719942421655,\n",
      "                50.71979695556507\n",
      "              ],\n",
      "              [\n",
      "                7.116112104789863,\n",
      "                50.71976108790392\n",
      "              ],\n",
      "              [\n",
      "                7.1160460621760535,\n",
      "                50.71972987513368\n",
      "              ],\n",
      "              [\n",
      "                7.115974757629033,\n",
      "                50.71970374173435\n",
      "              ],\n",
      "              [\n",
      "                7.115899156121202,\n",
      "                50.71968303934085\n",
      "              ],\n",
      "              [\n",
      "                7.115820280181822,\n",
      "                50.71966804854168\n",
      "              ],\n",
      "              [\n",
      "                7.115739195507501,\n",
      "                50.719658972583545\n",
      "              ],\n",
      "              [\n",
      "                7.115657000170472,\n",
      "                50.71965593287507\n",
      "              ],\n",
      "              [\n",
      "                7.115574803934123,\n",
      "                50.719658972583545\n",
      "              ],\n",
      "              [\n",
      "                7.115493720159122,\n",
      "                50.71966804854168\n",
      "              ],\n",
      "              [\n",
      "                7.1154148442197425,\n",
      "                50.71968303934085\n",
      "              ],\n",
      "              [\n",
      "                7.1153392427119115,\n",
      "                50.71970374173435\n",
      "              ],\n",
      "              [\n",
      "                7.115267938164891,\n",
      "                50.71972987513368\n",
      "              ],\n",
      "              [\n",
      "                7.1152018946517614,\n",
      "                50.71976108790392\n",
      "              ],\n",
      "              [\n",
      "                7.115142006098779,\n",
      "                50.71979695556507\n",
      "              ],\n",
      "              [\n",
      "                7.11508908189569,\n",
      "                50.719836995181254\n",
      "              ],\n",
      "              [\n",
      "                7.115043837003498,\n",
      "                50.71988066536045\n",
      "              ],\n",
      "              [\n",
      "                7.115006884759964,\n",
      "                50.71992737344959\n",
      "              ],\n",
      "              [\n",
      "                7.114978723389413,\n",
      "                50.71997648992311\n",
      "              ],\n",
      "              [\n",
      "                7.114959734204433,\n",
      "                50.720027348383496\n",
      "              ],\n",
      "              [\n",
      "                7.114950175310412,\n",
      "                50.720079263547234\n",
      "              ],\n",
      "              [\n",
      "                7.114950174411092,\n",
      "                50.720131532144535\n",
      "              ],\n",
      "              [\n",
      "                7.114959732405794,\n",
      "                50.72018344730827\n",
      "              ],\n",
      "              [\n",
      "                7.114978719792134,\n",
      "                50.720234306667976\n",
      "              ],\n",
      "              [\n",
      "                7.115006879364046,\n",
      "                50.720283423141495\n",
      "              ],\n",
      "              [\n",
      "                7.115043831607579,\n",
      "                50.72033013212996\n",
      "              ],\n",
      "              [\n",
      "                7.115089074701075,\n",
      "                50.720373801409835\n",
      "              ],\n",
      "              [\n",
      "                7.115141999803484,\n",
      "                50.720413841925335\n",
      "              ],\n",
      "              [\n",
      "                7.115201888356523,\n",
      "                50.72044971048581\n",
      "              ],\n",
      "              [\n",
      "                7.115267931869596,\n",
      "                50.72048092325605\n",
      "              ],\n",
      "              [\n",
      "                7.115339237315993,\n",
      "                50.7205070575547\n",
      "              ],\n",
      "              [\n",
      "                7.115414839723144,\n",
      "                50.72052776084752\n",
      "              ],\n",
      "              [\n",
      "                7.115493717461163,\n",
      "                50.72054275164675\n",
      "              ],\n",
      "              [\n",
      "                7.115574803034804,\n",
      "                50.72055182760482\n",
      "              ],\n",
      "              [\n",
      "                7.115657000170472,\n",
      "                50.720554866414034\n",
      "              ]\n",
      "            ]\n",
      "          ]\n",
      "        }\n",
      "      }\n",
      "    ],\n",
      "    \"geometryType\": \"esriGeometryPolygon\",\n",
      "    \"spatialReference\": {\n",
      "      \"wkid\": 4326,\n",
      "      \"latestWkid\": 4326\n",
      "    }\n",
      "  },\n",
      "  \"layerDefinition\": {\n",
      "    \"geometryType\": \"esriGeometryPolygon\",\n",
      "    \"spatialReference\": {\n",
      "      \"wkid\": 4326,\n",
      "      \"latestWkid\": 4326\n",
      "    },\n",
      "    \"objectIdField\": \"OBJECTID\",\n",
      "    \"type\": \"Feature Layer\",\n",
      "    \"fields\": [\n",
      "      {\n",
      "        \"name\": \"OBJECTID\",\n",
      "        \"type\": \"esriFieldTypeOID\",\n",
      "        \"alias\": \"OBJECTID\"\n",
      "      },\n",
      "      {\n",
      "        \"name\": \"BUFF_DIST\",\n",
      "        \"type\": \"esriFieldTypeDouble\",\n",
      "        \"alias\": \"Buffer distance in Meters\"\n",
      "      },\n",
      "      {\n",
      "        \"name\": \"ORIG_FID\",\n",
      "        \"type\": \"esriFieldTypeInteger\",\n",
      "        \"alias\": \"ORIG_FID\"\n",
      "      },\n",
      "      {\n",
      "        \"name\": \"AnalysisArea\",\n",
      "        \"type\": \"esriFieldTypeDouble\",\n",
      "        \"alias\": \"Area in Square Kilometers\"\n",
      "      }\n",
      "    ],\n",
      "    \"drawingInfo\": {\n",
      "      \"renderer\": {\n",
      "        \"type\": \"simple\",\n",
      "        \"symbol\": {\n",
      "          \"type\": \"esriSFS\",\n",
      "          \"style\": \"esriSFSSolid\",\n",
      "          \"color\": [\n",
      "            0,\n",
      "            100,\n",
      "            255,\n",
      "            94\n",
      "          ],\n",
      "          \"outline\": {\n",
      "            \"type\": \"esriSLS\",\n",
      "            \"style\": \"esriSLSSolid\",\n",
      "            \"color\": [\n",
      "              110,\n",
      "              110,\n",
      "              110,\n",
      "              255\n",
      "            ],\n",
      "            \"width\": 1\n",
      "          }\n",
      "        }\n",
      "      }\n",
      "    }\n",
      "  }\n",
      "}\n"
     ]
    }
   ],
   "source": [
    "print(feature_collection_result.properties)"
   ]
  },
  {
   "cell_type": "code",
   "execution_count": 97,
   "id": "52613e9c",
   "metadata": {},
   "outputs": [
    {
     "data": {
      "text/html": [
       "<div>\n",
       "<style scoped>\n",
       "    .dataframe tbody tr th:only-of-type {\n",
       "        vertical-align: middle;\n",
       "    }\n",
       "\n",
       "    .dataframe tbody tr th {\n",
       "        vertical-align: top;\n",
       "    }\n",
       "\n",
       "    .dataframe thead th {\n",
       "        text-align: right;\n",
       "    }\n",
       "</style>\n",
       "<table border=\"1\" class=\"dataframe\">\n",
       "  <thead>\n",
       "    <tr style=\"text-align: right;\">\n",
       "      <th></th>\n",
       "      <th>OBJECTID</th>\n",
       "      <th>BUFF_DIST</th>\n",
       "      <th>ORIG_FID</th>\n",
       "      <th>AnalysisArea</th>\n",
       "      <th>SHAPE</th>\n",
       "    </tr>\n",
       "  </thead>\n",
       "  <tbody>\n",
       "    <tr>\n",
       "      <th>0</th>\n",
       "      <td>1</td>\n",
       "      <td>50.0</td>\n",
       "      <td>1</td>\n",
       "      <td>0.007836</td>\n",
       "      <td>{\"rings\": [[[7.115657000170472, 50.72055486641...</td>\n",
       "    </tr>\n",
       "  </tbody>\n",
       "</table>\n",
       "</div>"
      ],
      "text/plain": [
       "   OBJECTID  BUFF_DIST  ORIG_FID  AnalysisArea  \\\n",
       "0         1       50.0         1      0.007836   \n",
       "\n",
       "                                               SHAPE  \n",
       "0  {\"rings\": [[[7.115657000170472, 50.72055486641...  "
      ]
     },
     "execution_count": 97,
     "metadata": {},
     "output_type": "execute_result"
    }
   ],
   "source": [
    "feature_set_buffer = feature_collection_result.query()\n",
    "buffer_sdf = feature_set_buffer.sdf\n",
    "buffer_sdf"
   ]
  },
  {
   "cell_type": "code",
   "execution_count": 28,
   "id": "08cb3c3b",
   "metadata": {},
   "outputs": [
    {
     "data": {
      "text/html": [
       "<div>\n",
       "<style scoped>\n",
       "    .dataframe tbody tr th:only-of-type {\n",
       "        vertical-align: middle;\n",
       "    }\n",
       "\n",
       "    .dataframe tbody tr th {\n",
       "        vertical-align: top;\n",
       "    }\n",
       "\n",
       "    .dataframe thead th {\n",
       "        text-align: right;\n",
       "    }\n",
       "</style>\n",
       "<table border=\"1\" class=\"dataframe\">\n",
       "  <thead>\n",
       "    <tr style=\"text-align: right;\">\n",
       "      <th></th>\n",
       "      <th>FID</th>\n",
       "      <th>NAME</th>\n",
       "      <th>CLASS</th>\n",
       "      <th>ST</th>\n",
       "      <th>STFIPS</th>\n",
       "      <th>PLACEFIPS</th>\n",
       "      <th>CAPITAL</th>\n",
       "      <th>POP_CLASS</th>\n",
       "      <th>POPULATION</th>\n",
       "      <th>POP2010</th>\n",
       "      <th>...</th>\n",
       "      <th>MARHH_NO_C</th>\n",
       "      <th>MHH_CHILD</th>\n",
       "      <th>FHH_CHILD</th>\n",
       "      <th>FAMILIES</th>\n",
       "      <th>AVE_FAM_SZ</th>\n",
       "      <th>HSE_UNITS</th>\n",
       "      <th>VACANT</th>\n",
       "      <th>OWNER_OCC</th>\n",
       "      <th>RENTER_OCC</th>\n",
       "      <th>SHAPE</th>\n",
       "    </tr>\n",
       "  </thead>\n",
       "  <tbody>\n",
       "    <tr>\n",
       "      <th>0</th>\n",
       "      <td>1</td>\n",
       "      <td>Ammon</td>\n",
       "      <td>city</td>\n",
       "      <td>ID</td>\n",
       "      <td>16</td>\n",
       "      <td>1601990</td>\n",
       "      <td></td>\n",
       "      <td>6</td>\n",
       "      <td>15181</td>\n",
       "      <td>13816</td>\n",
       "      <td>...</td>\n",
       "      <td>1131</td>\n",
       "      <td>106</td>\n",
       "      <td>335</td>\n",
       "      <td>3352</td>\n",
       "      <td>3.61</td>\n",
       "      <td>4747</td>\n",
       "      <td>271</td>\n",
       "      <td>3205</td>\n",
       "      <td>1271</td>\n",
       "      <td>{\"x\": -12462673.723706165, \"y\": 5384674.994080...</td>\n",
       "    </tr>\n",
       "    <tr>\n",
       "      <th>1</th>\n",
       "      <td>2</td>\n",
       "      <td>Blackfoot</td>\n",
       "      <td>city</td>\n",
       "      <td>ID</td>\n",
       "      <td>16</td>\n",
       "      <td>1607840</td>\n",
       "      <td></td>\n",
       "      <td>6</td>\n",
       "      <td>11946</td>\n",
       "      <td>11899</td>\n",
       "      <td>...</td>\n",
       "      <td>1081</td>\n",
       "      <td>174</td>\n",
       "      <td>381</td>\n",
       "      <td>2958</td>\n",
       "      <td>3.31</td>\n",
       "      <td>4547</td>\n",
       "      <td>318</td>\n",
       "      <td>2788</td>\n",
       "      <td>1441</td>\n",
       "      <td>{\"x\": -12506251.313993266, \"y\": 5341537.793529...</td>\n",
       "    </tr>\n",
       "    <tr>\n",
       "      <th>2</th>\n",
       "      <td>4</td>\n",
       "      <td>Burley</td>\n",
       "      <td>city</td>\n",
       "      <td>ID</td>\n",
       "      <td>16</td>\n",
       "      <td>1611260</td>\n",
       "      <td></td>\n",
       "      <td>6</td>\n",
       "      <td>10727</td>\n",
       "      <td>10345</td>\n",
       "      <td>...</td>\n",
       "      <td>861</td>\n",
       "      <td>139</td>\n",
       "      <td>358</td>\n",
       "      <td>2499</td>\n",
       "      <td>3.37</td>\n",
       "      <td>3885</td>\n",
       "      <td>241</td>\n",
       "      <td>2183</td>\n",
       "      <td>1461</td>\n",
       "      <td>{\"x\": -12667411.402393516, \"y\": 5241722.820606...</td>\n",
       "    </tr>\n",
       "    <tr>\n",
       "      <th>3</th>\n",
       "      <td>6</td>\n",
       "      <td>Chubbuck</td>\n",
       "      <td>city</td>\n",
       "      <td>ID</td>\n",
       "      <td>16</td>\n",
       "      <td>1614680</td>\n",
       "      <td></td>\n",
       "      <td>6</td>\n",
       "      <td>14655</td>\n",
       "      <td>13922</td>\n",
       "      <td>...</td>\n",
       "      <td>1281</td>\n",
       "      <td>172</td>\n",
       "      <td>370</td>\n",
       "      <td>3586</td>\n",
       "      <td>3.4</td>\n",
       "      <td>4961</td>\n",
       "      <td>229</td>\n",
       "      <td>3324</td>\n",
       "      <td>1408</td>\n",
       "      <td>{\"x\": -12520053.904151963, \"y\": 5300220.333409...</td>\n",
       "    </tr>\n",
       "    <tr>\n",
       "      <th>4</th>\n",
       "      <td>12</td>\n",
       "      <td>Jerome</td>\n",
       "      <td>city</td>\n",
       "      <td>ID</td>\n",
       "      <td>16</td>\n",
       "      <td>1641320</td>\n",
       "      <td></td>\n",
       "      <td>6</td>\n",
       "      <td>11403</td>\n",
       "      <td>10890</td>\n",
       "      <td>...</td>\n",
       "      <td>779</td>\n",
       "      <td>210</td>\n",
       "      <td>385</td>\n",
       "      <td>2640</td>\n",
       "      <td>3.44</td>\n",
       "      <td>3985</td>\n",
       "      <td>292</td>\n",
       "      <td>2219</td>\n",
       "      <td>1474</td>\n",
       "      <td>{\"x\": -12747828.64784961, \"y\": 5269214.8197742...</td>\n",
       "    </tr>\n",
       "  </tbody>\n",
       "</table>\n",
       "<p>5 rows × 50 columns</p>\n",
       "</div>"
      ],
      "text/plain": [
       "   FID       NAME CLASS  ST STFIPS PLACEFIPS CAPITAL  POP_CLASS  POPULATION  \\\n",
       "0    1      Ammon  city  ID     16   1601990                  6       15181   \n",
       "1    2  Blackfoot  city  ID     16   1607840                  6       11946   \n",
       "2    4     Burley  city  ID     16   1611260                  6       10727   \n",
       "3    6   Chubbuck  city  ID     16   1614680                  6       14655   \n",
       "4   12     Jerome  city  ID     16   1641320                  6       11403   \n",
       "\n",
       "   POP2010  ...  MARHH_NO_C  MHH_CHILD  FHH_CHILD  FAMILIES  AVE_FAM_SZ  \\\n",
       "0    13816  ...        1131        106        335      3352        3.61   \n",
       "1    11899  ...        1081        174        381      2958        3.31   \n",
       "2    10345  ...         861        139        358      2499        3.37   \n",
       "3    13922  ...        1281        172        370      3586         3.4   \n",
       "4    10890  ...         779        210        385      2640        3.44   \n",
       "\n",
       "   HSE_UNITS  VACANT  OWNER_OCC  RENTER_OCC  \\\n",
       "0       4747     271       3205        1271   \n",
       "1       4547     318       2788        1441   \n",
       "2       3885     241       2183        1461   \n",
       "3       4961     229       3324        1408   \n",
       "4       3985     292       2219        1474   \n",
       "\n",
       "                                               SHAPE  \n",
       "0  {\"x\": -12462673.723706165, \"y\": 5384674.994080...  \n",
       "1  {\"x\": -12506251.313993266, \"y\": 5341537.793529...  \n",
       "2  {\"x\": -12667411.402393516, \"y\": 5241722.820606...  \n",
       "3  {\"x\": -12520053.904151963, \"y\": 5300220.333409...  \n",
       "4  {\"x\": -12747828.64784961, \"y\": 5269214.8197742...  \n",
       "\n",
       "[5 rows x 50 columns]"
      ]
     },
     "execution_count": 28,
     "metadata": {},
     "output_type": "execute_result"
    }
   ],
   "source": [
    "gis = GIS()\n",
    "# create an anonymous connection to ArcGIS Online and get a public item\n",
    "item = gis.content.get(\"85d0ca4ea1ca4b9abf0c51b9bd34de2e\")\n",
    "flayer = item.layers[0]\n",
    "\n",
    "# Specify a SQL query and get a sub-set of the original data as a DataFrame\n",
    "df = flayer.query(where=\"AGE_45_54 < 1500\").sdf\n",
    "\n",
    "# Visualize the top 5 records\n",
    "df.head()"
   ]
  },
  {
   "cell_type": "code",
   "execution_count": 56,
   "id": "5ed9a750",
   "metadata": {},
   "outputs": [
    {
     "data": {
      "application/vnd.jupyter.widget-view+json": {
       "model_id": "b9b44ab189194101b566446937d9954b",
       "version_major": 2,
       "version_minor": 0
      },
      "text/plain": [
       "MapView(layout=Layout(height='400px', width='100%'))"
      ]
     },
     "metadata": {},
     "output_type": "display_data"
    },
    {
     "data": {
      "text/html": [
       "<div class=\"map-static-img-preview-4b8e9b7b-3406-47cc-b291-3f3d7a348bee\"><img src=\"\"></img></div>"
      ],
      "text/plain": [
       "<IPython.core.display.HTML object>"
      ]
     },
     "metadata": {},
     "output_type": "display_data"
    },
    {
     "data": {
      "text/html": [
       "<div class=\"map-html-embed-preview-4b8e9b7b-3406-47cc-b291-3f3d7a348bee\"></div>"
      ],
      "text/plain": [
       "<IPython.core.display.HTML object>"
      ]
     },
     "metadata": {},
     "output_type": "display_data"
    }
   ],
   "source": [
    "myGIS = GIS()\n",
    "myGIS.map()\n",
    "\n",
    "m1 = GIS().map('Germany')\n",
    "m1\n",
    "# m1.zoom = 4\n",
    "# m1.center = [39,-98]\n",
    "# df.spatial.plot(map_widget= m1)\n",
    "\n",
    "# m2= GIS().map('United States', zoomlevel=4)\n",
    "# m2"
   ]
  },
  {
   "cell_type": "code",
   "execution_count": 107,
   "id": "62b0b343",
   "metadata": {},
   "outputs": [
    {
     "ename": "AttributeError",
     "evalue": "'FeatureCollection' object has no attribute 'extent'",
     "output_type": "error",
     "traceback": [
      "\u001b[1;31m---------------------------------------------------------------------------\u001b[0m",
      "\u001b[1;31mAttributeError\u001b[0m                            Traceback (most recent call last)",
      "\u001b[1;32m~\\AppData\\Local\\Temp\\ipykernel_19724\\1549421328.py\u001b[0m in \u001b[0;36m<cell line: 1>\u001b[1;34m()\u001b[0m\n\u001b[1;32m----> 1\u001b[1;33m \u001b[0mfeature_collection_result\u001b[0m\u001b[1;33m.\u001b[0m\u001b[0mextent\u001b[0m\u001b[1;33m\u001b[0m\u001b[1;33m\u001b[0m\u001b[0m\n\u001b[0m",
      "\u001b[1;31mAttributeError\u001b[0m: 'FeatureCollection' object has no attribute 'extent'"
     ]
    }
   ],
   "source": [
    "feature_collection_result.extent"
   ]
  },
  {
   "cell_type": "code",
   "execution_count": 102,
   "id": "9e24daed",
   "metadata": {},
   "outputs": [
    {
     "ename": "AttributeError",
     "evalue": "'PropertyMap' instance has no attribute 'extent'",
     "output_type": "error",
     "traceback": [
      "\u001b[1;31m---------------------------------------------------------------------------\u001b[0m",
      "\u001b[1;31mAttributeError\u001b[0m                            Traceback (most recent call last)",
      "\u001b[1;32m~\\AppData\\Local\\Temp\\ipykernel_19724\\3890248297.py\u001b[0m in \u001b[0;36m<cell line: 7>\u001b[1;34m()\u001b[0m\n\u001b[0;32m      5\u001b[0m \u001b[1;31m# # type(dtbMap)\u001b[0m\u001b[1;33m\u001b[0m\u001b[1;33m\u001b[0m\u001b[0m\n\u001b[0;32m      6\u001b[0m \u001b[1;33m\u001b[0m\u001b[0m\n\u001b[1;32m----> 7\u001b[1;33m \u001b[0mbuffer_map\u001b[0m\u001b[1;33m.\u001b[0m\u001b[0mzoom_to_layer\u001b[0m\u001b[1;33m(\u001b[0m\u001b[0mfeature_collection_result\u001b[0m\u001b[1;33m)\u001b[0m\u001b[1;33m\u001b[0m\u001b[1;33m\u001b[0m\u001b[0m\n\u001b[0m\u001b[0;32m      8\u001b[0m \u001b[1;31m# buffer_map.legend = True\u001b[0m\u001b[1;33m\u001b[0m\u001b[1;33m\u001b[0m\u001b[0m\n\u001b[0;32m      9\u001b[0m \u001b[1;33m\u001b[0m\u001b[0m\n",
      "\u001b[1;32m~\\AppData\\Local\\miniconda3\\envs\\carbon\\lib\\site-packages\\arcgis\\widgets\\_mapview\\_mapview.py\u001b[0m in \u001b[0;36mzoom_to_layer\u001b[1;34m(self, item, options)\u001b[0m\n\u001b[0;32m   2590\u001b[0m         \u001b[1;33m==\u001b[0m\u001b[1;33m==\u001b[0m\u001b[1;33m==\u001b[0m\u001b[1;33m==\u001b[0m\u001b[1;33m==\u001b[0m\u001b[1;33m==\u001b[0m\u001b[1;33m==\u001b[0m\u001b[1;33m==\u001b[0m\u001b[1;33m==\u001b[0m     \u001b[1;33m==\u001b[0m\u001b[1;33m==\u001b[0m\u001b[1;33m==\u001b[0m\u001b[1;33m==\u001b[0m\u001b[1;33m==\u001b[0m\u001b[1;33m==\u001b[0m\u001b[1;33m==\u001b[0m\u001b[1;33m==\u001b[0m\u001b[1;33m==\u001b[0m\u001b[1;33m==\u001b[0m\u001b[1;33m==\u001b[0m\u001b[1;33m==\u001b[0m\u001b[1;33m==\u001b[0m\u001b[1;33m==\u001b[0m\u001b[1;33m==\u001b[0m\u001b[1;33m==\u001b[0m\u001b[1;33m==\u001b[0m\u001b[1;33m==\u001b[0m\u001b[1;33m==\u001b[0m\u001b[1;33m==\u001b[0m\u001b[1;33m==\u001b[0m\u001b[1;33m==\u001b[0m\u001b[1;33m==\u001b[0m\u001b[1;33m==\u001b[0m\u001b[1;33m==\u001b[0m\u001b[1;33m==\u001b[0m\u001b[1;33m==\u001b[0m\u001b[1;33m==\u001b[0m\u001b[1;33m==\u001b[0m\u001b[1;33m==\u001b[0m\u001b[1;33m==\u001b[0m\u001b[1;33m==\u001b[0m\u001b[1;33m==\u001b[0m\u001b[1;33m==\u001b[0m\u001b[1;33m\u001b[0m\u001b[1;33m\u001b[0m\u001b[0m\n\u001b[0;32m   2591\u001b[0m         \"\"\"\n\u001b[1;32m-> 2592\u001b[1;33m         \u001b[0mtarget_extent\u001b[0m \u001b[1;33m=\u001b[0m \u001b[0m_get_extent\u001b[0m\u001b[1;33m(\u001b[0m\u001b[0mitem\u001b[0m\u001b[1;33m)\u001b[0m\u001b[1;33m\u001b[0m\u001b[1;33m\u001b[0m\u001b[0m\n\u001b[0m\u001b[0;32m   2593\u001b[0m         \u001b[0mtarget_sr\u001b[0m \u001b[1;33m=\u001b[0m \u001b[0mgetattr\u001b[0m\u001b[1;33m(\u001b[0m\u001b[0mself\u001b[0m\u001b[1;33m,\u001b[0m \u001b[1;34m\"extent\"\u001b[0m\u001b[1;33m,\u001b[0m \u001b[1;33m{\u001b[0m\u001b[1;33m}\u001b[0m\u001b[1;33m)\u001b[0m\u001b[1;33m.\u001b[0m\u001b[0mget\u001b[0m\u001b[1;33m(\u001b[0m\u001b[1;34m\"spatialReference\"\u001b[0m\u001b[1;33m,\u001b[0m \u001b[0mdefault_sr\u001b[0m\u001b[1;33m)\u001b[0m\u001b[1;33m\u001b[0m\u001b[1;33m\u001b[0m\u001b[0m\n\u001b[0;32m   2594\u001b[0m         \u001b[1;32mif\u001b[0m \u001b[0misinstance\u001b[0m\u001b[1;33m(\u001b[0m\u001b[0mtarget_extent\u001b[0m\u001b[1;33m,\u001b[0m \u001b[0mlist\u001b[0m\u001b[1;33m)\u001b[0m\u001b[1;33m:\u001b[0m\u001b[1;33m\u001b[0m\u001b[1;33m\u001b[0m\u001b[0m\n",
      "\u001b[1;32m~\\AppData\\Local\\miniconda3\\envs\\carbon\\lib\\site-packages\\arcgis\\widgets\\_mapview\\_mapview.py\u001b[0m in \u001b[0;36m_get_extent\u001b[1;34m(item)\u001b[0m\n\u001b[0;32m    106\u001b[0m         \u001b[1;32mreturn\u001b[0m \u001b[0m_get_extent\u001b[0m\u001b[1;33m(\u001b[0m\u001b[0mitem\u001b[0m\u001b[1;33m.\u001b[0m\u001b[0msdf\u001b[0m\u001b[1;33m)\u001b[0m\u001b[1;33m\u001b[0m\u001b[1;33m\u001b[0m\u001b[0m\n\u001b[0;32m    107\u001b[0m     \u001b[1;32melif\u001b[0m \u001b[0misinstance\u001b[0m\u001b[1;33m(\u001b[0m\u001b[0mitem\u001b[0m\u001b[1;33m,\u001b[0m \u001b[0mFeatureCollection\u001b[0m\u001b[1;33m)\u001b[0m\u001b[1;33m:\u001b[0m\u001b[1;33m\u001b[0m\u001b[1;33m\u001b[0m\u001b[0m\n\u001b[1;32m--> 108\u001b[1;33m         \u001b[1;32mreturn\u001b[0m \u001b[0mdict\u001b[0m\u001b[1;33m(\u001b[0m\u001b[0mitem\u001b[0m\u001b[1;33m.\u001b[0m\u001b[0mproperties\u001b[0m\u001b[1;33m.\u001b[0m\u001b[0mlayerDefinition\u001b[0m\u001b[1;33m.\u001b[0m\u001b[0mextent\u001b[0m\u001b[1;33m)\u001b[0m\u001b[1;33m\u001b[0m\u001b[1;33m\u001b[0m\u001b[0m\n\u001b[0m\u001b[0;32m    109\u001b[0m     \u001b[1;32melif\u001b[0m \u001b[0misinstance\u001b[0m\u001b[1;33m(\u001b[0m\u001b[0mitem\u001b[0m\u001b[1;33m,\u001b[0m \u001b[0mLayer\u001b[0m\u001b[1;33m)\u001b[0m\u001b[1;33m:\u001b[0m\u001b[1;33m\u001b[0m\u001b[1;33m\u001b[0m\u001b[0m\n\u001b[0;32m    110\u001b[0m         \u001b[1;32mtry\u001b[0m\u001b[1;33m:\u001b[0m\u001b[1;33m\u001b[0m\u001b[1;33m\u001b[0m\u001b[0m\n",
      "\u001b[1;32m~\\AppData\\Local\\miniconda3\\envs\\carbon\\lib\\site-packages\\arcgis\\_impl\\common\\_mixins.py\u001b[0m in \u001b[0;36m__getattr__\u001b[1;34m(self, key)\u001b[0m\n\u001b[0;32m     80\u001b[0m         \"\"\"\n\u001b[0;32m     81\u001b[0m         \u001b[1;32mif\u001b[0m \u001b[0mkey\u001b[0m \u001b[1;32mnot\u001b[0m \u001b[1;32min\u001b[0m \u001b[0mself\u001b[0m \u001b[1;32mor\u001b[0m \u001b[1;32mnot\u001b[0m \u001b[0mself\u001b[0m\u001b[1;33m.\u001b[0m\u001b[0m_valid_name\u001b[0m\u001b[1;33m(\u001b[0m\u001b[0mkey\u001b[0m\u001b[1;33m)\u001b[0m\u001b[1;33m:\u001b[0m\u001b[1;33m\u001b[0m\u001b[1;33m\u001b[0m\u001b[0m\n\u001b[1;32m---> 82\u001b[1;33m             raise AttributeError(\n\u001b[0m\u001b[0;32m     83\u001b[0m                 \"'{cls}' instance has no attribute '{name}'\".format(\n\u001b[0;32m     84\u001b[0m                     \u001b[0mcls\u001b[0m\u001b[1;33m=\u001b[0m\u001b[0mself\u001b[0m\u001b[1;33m.\u001b[0m\u001b[0m__class__\u001b[0m\u001b[1;33m.\u001b[0m\u001b[0m__name__\u001b[0m\u001b[1;33m,\u001b[0m \u001b[0mname\u001b[0m\u001b[1;33m=\u001b[0m\u001b[0mkey\u001b[0m\u001b[1;33m\u001b[0m\u001b[1;33m\u001b[0m\u001b[0m\n",
      "\u001b[1;31mAttributeError\u001b[0m: 'PropertyMap' instance has no attribute 'extent'"
     ]
    }
   ],
   "source": [
    "buffer_map = GIS().map()\n",
    "\n",
    "buffer_map.add_layer(feature_collection_result)\n",
    "buffer_sdf.spatial.plot(map_widget = buffer_map)\n",
    "# # type(dtbMap)\n",
    "\n",
    "buffer_map.zoom_to_layer(feature_collection_result)\n",
    "# buffer_map.legend = True\n",
    "\n",
    "# for lyr in buffer_map.layers:\n",
    "#     print(lyr.properties.name)\n",
    "    \n",
    "buffer_map"
   ]
  },
  {
   "cell_type": "code",
   "execution_count": 35,
   "id": "4aa474a9",
   "metadata": {},
   "outputs": [
    {
     "data": {
      "application/vnd.jupyter.widget-view+json": {
       "model_id": "663be28e1ae54aefad4b7c8f536c868b",
       "version_major": 2,
       "version_minor": 0
      },
      "text/plain": [
       "MapView(layout=Layout(height='400px', width='100%'))"
      ]
     },
     "metadata": {},
     "output_type": "display_data"
    },
    {
     "data": {
      "text/html": [
       "<div class=\"map-static-img-preview-ef0fab16-6115-49b9-be4a-243c90513cc0\"><img src=\"\"></img></div>"
      ],
      "text/plain": [
       "<IPython.core.display.HTML object>"
      ]
     },
     "metadata": {},
     "output_type": "display_data"
    },
    {
     "data": {
      "text/html": [
       "<div class=\"map-html-embed-preview-ef0fab16-6115-49b9-be4a-243c90513cc0\"></div>"
      ],
      "text/plain": [
       "<IPython.core.display.HTML object>"
      ]
     },
     "metadata": {},
     "output_type": "display_data"
    }
   ],
   "source": [
    "buffer_map = GIS().map()\n",
    "buffer_sdf.spatial.plot(buffer_map)\n",
    "# type(dtbMap)\n",
    "\n",
    "buffer_map"
   ]
  },
  {
   "cell_type": "markdown",
   "id": "b116716f",
   "metadata": {},
   "source": [
    "#### authenticate / Anzeige der Karte"
   ]
  },
  {
   "cell_type": "code",
   "execution_count": 5,
   "id": "50a257b2",
   "metadata": {},
   "outputs": [],
   "source": [
    "import urllib3\n",
    "urllib3.disable_warnings(urllib3.exceptions.InsecureRequestWarning)\n",
    "\n",
    "from arcgis.gis import GIS\n",
    "from getpass import getpass"
   ]
  },
  {
   "cell_type": "markdown",
   "id": "fbc79976",
   "metadata": {},
   "source": [
    "Authentifizierung mit dem Demoportal, um auf die Ressourcen zugreifen zu können."
   ]
  },
  {
   "cell_type": "code",
   "execution_count": 78,
   "id": "3b84b811",
   "metadata": {},
   "outputs": [
    {
     "name": "stdout",
     "output_type": "stream",
     "text": [
      "Enter App-ID:  ········\n",
      "Please sign in to your GIS and paste the code that is obtained below.\n",
      "If a web browser does not automatically open, please navigate to the URL below yourself instead.\n",
      "Opening web browser to navigate to: https://esridech.maps.arcgis.com/sharing/rest/oauth2/authorize?response_type=code&client_id=58QRtW537gEecTuf&redirect_uri=urn%3Aietf%3Awg%3Aoauth%3A2.0%3Aoob&state=1y7XGfo7VG5ubYnbTT60HvQOmKRNh0&allow_verification=false\n",
      "Enter code obtained on signing in using SAML: ········\n"
     ]
    }
   ],
   "source": [
    "gis = GIS(\"https://esridech.maps.arcgis.com/\", client_id=getpass(\"Enter App-ID:  \"))\n",
    "# print(\"Successfully logged in as: \" + gis.properties.user.username)"
   ]
  },
  {
   "cell_type": "markdown",
   "id": "8ca9c6e3",
   "metadata": {},
   "source": [
    "#### Hinzufügen des Pfades vom Ordner des spatialcarbon.experiment Module\n",
    "Erforderlich, da eigenes Modul im Ordner \"src\" liegt und das Notebook im Homefolder \"green-spatial-engineering\" gestartet wird"
   ]
  },
  {
   "cell_type": "code",
   "execution_count": 7,
   "id": "2bf12591",
   "metadata": {},
   "outputs": [
    {
     "data": {
      "text/plain": [
       "['C:\\\\src\\\\green-spatial-engineering\\\\notebooks',\n",
       " 'C:\\\\Users\\\\thkn\\\\AppData\\\\Local\\\\miniconda3\\\\envs\\\\carbon\\\\python39.zip',\n",
       " 'C:\\\\Users\\\\thkn\\\\AppData\\\\Local\\\\miniconda3\\\\envs\\\\carbon\\\\DLLs',\n",
       " 'C:\\\\Users\\\\thkn\\\\AppData\\\\Local\\\\miniconda3\\\\envs\\\\carbon\\\\lib',\n",
       " 'C:\\\\Users\\\\thkn\\\\AppData\\\\Local\\\\miniconda3\\\\envs\\\\carbon',\n",
       " '',\n",
       " 'C:\\\\Users\\\\thkn\\\\AppData\\\\Local\\\\miniconda3\\\\envs\\\\carbon\\\\lib\\\\site-packages',\n",
       " 'C:\\\\Users\\\\thkn\\\\AppData\\\\Local\\\\miniconda3\\\\envs\\\\carbon\\\\lib\\\\site-packages\\\\pytz-2022.6-py3.9.egg',\n",
       " 'C:\\\\Users\\\\thkn\\\\AppData\\\\Local\\\\miniconda3\\\\envs\\\\carbon\\\\lib\\\\site-packages\\\\pywin32security',\n",
       " 'C:\\\\Users\\\\thkn\\\\AppData\\\\Local\\\\miniconda3\\\\envs\\\\carbon\\\\lib\\\\site-packages\\\\IPython\\\\extensions',\n",
       " 'C:\\\\Users\\\\thkn\\\\.ipython',\n",
       " '../src']"
      ]
     },
     "execution_count": 7,
     "metadata": {},
     "output_type": "execute_result"
    }
   ],
   "source": [
    "import sys\n",
    "sys.path.append(\"../src\")\n",
    "sys.path"
   ]
  },
  {
   "cell_type": "code",
   "execution_count": 8,
   "id": "091186c6",
   "metadata": {},
   "outputs": [],
   "source": [
    "from arcgis.features import FeatureLayer\n",
    "from codecarbon import EmissionsTracker\n",
    "from glob import glob\n",
    "import logging\n",
    "import os\n",
    "from spatialcarbon.experiment import Experiment"
   ]
  },
  {
   "cell_type": "code",
   "execution_count": 17,
   "id": "578b3fdb",
   "metadata": {
    "scrolled": true
   },
   "outputs": [
    {
     "name": "stderr",
     "output_type": "stream",
     "text": [
      "[codecarbon INFO @ 12:37:49] [setup] RAM Tracking...\n",
      "[codecarbon INFO @ 12:37:49] [setup] GPU Tracking...\n",
      "[codecarbon INFO @ 12:37:49] Tracking Nvidia GPU via pynvml\n",
      "[codecarbon INFO @ 12:37:49] [setup] CPU Tracking...\n",
      "[codecarbon WARNING @ 12:37:49] No CPU tracking mode found. Falling back on CPU constant mode.\n",
      "[codecarbon WARNING @ 12:37:51] We saw that you have a Intel(R) Core(TM) i7-7820HQ CPU @ 2.90GHz but we don't know it. Please contact us.\n",
      "[codecarbon INFO @ 12:37:51] CPU Model on constant consumption mode: Intel(R) Core(TM) i7-7820HQ CPU @ 2.90GHz\n",
      "[codecarbon INFO @ 12:37:51] >>> Tracker's metadata:\n",
      "[codecarbon INFO @ 12:37:51]   Platform system: Windows-10-10.0.22621-SP0\n",
      "[codecarbon INFO @ 12:37:51]   Python version: 3.9.11\n",
      "[codecarbon INFO @ 12:37:51]   CodeCarbon version: 2.2.2\n",
      "[codecarbon INFO @ 12:37:51]   Available RAM : 31.807 GB\n",
      "[codecarbon INFO @ 12:37:51]   CPU count: 8\n",
      "[codecarbon INFO @ 12:37:51]   CPU model: Intel(R) Core(TM) i7-7820HQ CPU @ 2.90GHz\n",
      "[codecarbon INFO @ 12:37:51]   GPU count: 1\n",
      "[codecarbon INFO @ 12:37:51]   GPU model: 1 x Quadro M2200\n"
     ]
    }
   ],
   "source": [
    "experiment = Experiment(\"DTB\", \"cnt P Midnight FS\")\n",
    "tracker_name = experiment.create_tracker_name()\n",
    "\n",
    "# Creates a new tracker object    \n",
    "tracker = EmissionsTracker(project_name=tracker_name, output_dir=\"../log\")"
   ]
  },
  {
   "cell_type": "code",
   "execution_count": 18,
   "id": "e175c8b6",
   "metadata": {},
   "outputs": [],
   "source": [
    "tracker.start()"
   ]
  },
  {
   "cell_type": "code",
   "execution_count": 19,
   "id": "f764aca1",
   "metadata": {},
   "outputs": [],
   "source": [
    "traffic_layer_midnight = FeatureLayer(\"https://services3.arcgis.com/JhD3NyxTJcNiae8J/arcgis/rest/services/Agent_Positions/FeatureServer/0\")\n",
    "traffic_count_midnight = traffic_layer_midnight.query(return_count_only = True)"
   ]
  },
  {
   "cell_type": "code",
   "execution_count": 20,
   "id": "c0cebe8b",
   "metadata": {},
   "outputs": [
    {
     "name": "stderr",
     "output_type": "stream",
     "text": [
      "[codecarbon INFO @ 12:37:55] Energy consumed for RAM : 0.000004 kWh. RAM Power : 11.92749309539795 W\n",
      "[codecarbon INFO @ 12:37:55] Energy consumed for all GPUs : 0.000000 kWh. Total GPU Power : 0.0 W\n",
      "[codecarbon INFO @ 12:37:55] Energy consumed for all CPUs : 0.000014 kWh. Total CPU Power : 42.5 W\n",
      "[codecarbon INFO @ 12:37:55] 0.000018 kWh of electricity used since the beginning.\n"
     ]
    },
    {
     "data": {
      "text/plain": [
       "6.2916325482913285e-06"
      ]
     },
     "execution_count": 20,
     "metadata": {},
     "output_type": "execute_result"
    }
   ],
   "source": [
    "tracker.stop()"
   ]
  },
  {
   "cell_type": "code",
   "execution_count": 21,
   "id": "8918085a",
   "metadata": {},
   "outputs": [
    {
     "name": "stderr",
     "output_type": "stream",
     "text": [
      "[codecarbon INFO @ 12:37:59] [setup] RAM Tracking...\n",
      "[codecarbon INFO @ 12:37:59] [setup] GPU Tracking...\n",
      "[codecarbon INFO @ 12:37:59] Tracking Nvidia GPU via pynvml\n",
      "[codecarbon INFO @ 12:37:59] [setup] CPU Tracking...\n",
      "[codecarbon WARNING @ 12:37:59] No CPU tracking mode found. Falling back on CPU constant mode.\n",
      "[codecarbon WARNING @ 12:38:01] We saw that you have a Intel(R) Core(TM) i7-7820HQ CPU @ 2.90GHz but we don't know it. Please contact us.\n",
      "[codecarbon INFO @ 12:38:01] CPU Model on constant consumption mode: Intel(R) Core(TM) i7-7820HQ CPU @ 2.90GHz\n",
      "[codecarbon INFO @ 12:38:01] >>> Tracker's metadata:\n",
      "[codecarbon INFO @ 12:38:01]   Platform system: Windows-10-10.0.22621-SP0\n",
      "[codecarbon INFO @ 12:38:01]   Python version: 3.9.11\n",
      "[codecarbon INFO @ 12:38:01]   CodeCarbon version: 2.2.2\n",
      "[codecarbon INFO @ 12:38:01]   Available RAM : 31.807 GB\n",
      "[codecarbon INFO @ 12:38:01]   CPU count: 8\n",
      "[codecarbon INFO @ 12:38:01]   CPU model: Intel(R) Core(TM) i7-7820HQ CPU @ 2.90GHz\n",
      "[codecarbon INFO @ 12:38:01]   GPU count: 1\n",
      "[codecarbon INFO @ 12:38:01]   GPU model: 1 x Quadro M2200\n"
     ]
    }
   ],
   "source": [
    "experiment = Experiment(\"DTB\", \"cnt P early Day FS\")\n",
    "tracker_name = experiment.create_tracker_name()\n",
    "\n",
    "# Creates a new tracker object    \n",
    "tracker = EmissionsTracker(project_name=tracker_name, output_dir=\"../log\")"
   ]
  },
  {
   "cell_type": "code",
   "execution_count": 22,
   "id": "dbc4d455",
   "metadata": {},
   "outputs": [],
   "source": [
    "tracker.start()"
   ]
  },
  {
   "cell_type": "code",
   "execution_count": 23,
   "id": "9d953d07",
   "metadata": {},
   "outputs": [],
   "source": [
    "traffic_layer_early = FeatureLayer(\"https://services3.arcgis.com/JhD3NyxTJcNiae8J/arcgis/rest/services/Agent_Positions_early_weekday/FeatureServer/0\")\n",
    "traffic_count_early = traffic_layer_early.query(return_count_only = True)"
   ]
  },
  {
   "cell_type": "code",
   "execution_count": 24,
   "id": "feedcc29",
   "metadata": {},
   "outputs": [
    {
     "name": "stderr",
     "output_type": "stream",
     "text": [
      "[codecarbon INFO @ 12:38:05] Energy consumed for RAM : 0.000004 kWh. RAM Power : 11.92749309539795 W\n",
      "[codecarbon INFO @ 12:38:05] Energy consumed for all GPUs : 0.000000 kWh. Total GPU Power : 0.0 W\n",
      "[codecarbon INFO @ 12:38:05] Energy consumed for all CPUs : 0.000013 kWh. Total CPU Power : 42.5 W\n",
      "[codecarbon INFO @ 12:38:05] 0.000016 kWh of electricity used since the beginning.\n"
     ]
    },
    {
     "data": {
      "text/plain": [
       "5.794561187699564e-06"
      ]
     },
     "execution_count": 24,
     "metadata": {},
     "output_type": "execute_result"
    }
   ],
   "source": [
    "tracker.stop()"
   ]
  },
  {
   "cell_type": "code",
   "execution_count": null,
   "id": "6371e9f2",
   "metadata": {},
   "outputs": [],
   "source": [
    "traffic_count_earlyday = traffic_layer_early.query(return_count_only = True)"
   ]
  },
  {
   "cell_type": "code",
   "execution_count": null,
   "id": "ce1e97cc",
   "metadata": {},
   "outputs": [],
   "source": [
    "traffic_fset2"
   ]
  },
  {
   "cell_type": "code",
   "execution_count": null,
   "id": "2f49f203",
   "metadata": {},
   "outputs": [],
   "source": [
    "traffic_sdf = traffic_fset.sdf\n",
    "traffic_sdf"
   ]
  },
  {
   "cell_type": "code",
   "execution_count": null,
   "id": "96d11d79",
   "metadata": {},
   "outputs": [],
   "source": [
    "traffic_sdf2 = traffic_fset2.sdf\n",
    "traffic_sdf2"
   ]
  },
  {
   "cell_type": "code",
   "execution_count": null,
   "id": "7bd688c3",
   "metadata": {},
   "outputs": [],
   "source": []
  }
 ],
 "metadata": {
  "kernelspec": {
   "display_name": "Python 3 (ipykernel)",
   "language": "python",
   "name": "python3"
  },
  "language_info": {
   "codemirror_mode": {
    "name": "ipython",
    "version": 3
   },
   "file_extension": ".py",
   "mimetype": "text/x-python",
   "name": "python",
   "nbconvert_exporter": "python",
   "pygments_lexer": "ipython3",
   "version": "3.9.16"
  }
 },
 "nbformat": 4,
 "nbformat_minor": 5
}
